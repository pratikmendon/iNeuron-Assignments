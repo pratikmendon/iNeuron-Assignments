{
 "cells": [
  {
   "cell_type": "markdown",
   "id": "53c7e882",
   "metadata": {},
   "source": [
    "# Python Basic Programming Assignment 11\n",
    "--------------------"
   ]
  },
  {
   "cell_type": "markdown",
   "id": "051da140",
   "metadata": {},
   "source": [
    "### 1. Write a Python program to find words which are greater than given length k?"
   ]
  },
  {
   "cell_type": "code",
   "execution_count": 2,
   "id": "4d25d384-6851-4c29-9f32-0e7edda0df42",
   "metadata": {},
   "outputs": [
    {
     "name": "stdout",
     "output_type": "stream",
     "text": [
      "Data analytics is the process of gathering, transforming, and organising information in order to draw conclusions, make predictions, and make better decisions\n",
      "\n",
      "\n"
     ]
    },
    {
     "name": "stdin",
     "output_type": "stream",
     "text": [
      "Enter the length of words:  5\n"
     ]
    },
    {
     "name": "stdout",
     "output_type": "stream",
     "text": [
      "\n",
      "\n",
      "Words greater than length 5 are:\n",
      "analytics\n",
      "process\n",
      "gathering,\n",
      "transforming,\n",
      "organising\n",
      "information\n",
      "conclusions,\n",
      "predictions,\n",
      "better\n",
      "decisions\n"
     ]
    }
   ],
   "source": [
    "input_str = 'Data analytics is the process of gathering, transforming, and organising information in order to draw conclusions, make predictions, and make better decisions'\n",
    "\n",
    "print(input_str)\n",
    "print(\"\\n\")\n",
    "\n",
    "# Find words having length greater than str_len\n",
    "str_len = int(input(\"Enter the length of words: \"))\n",
    "print(\"\\n\")\n",
    "\n",
    "if str_len <= 0:\n",
    "    print(\"Enter the length of words greater than 0\")\n",
    "\n",
    "else:\n",
    "    \n",
    "    # Split the given strings into list of words and compare the length of every word\n",
    "    list_str = input_str.split()\n",
    "    print(\"Words greater than length {} are:\".format(str_len))\n",
    "    \n",
    "    for xchr in list_str:\n",
    "        if len(xchr) > str_len:\n",
    "            print(xchr)\n"
   ]
  },
  {
   "cell_type": "markdown",
   "id": "26719cbd",
   "metadata": {},
   "source": [
    "### 2. Write a Python program for removing i-th character from a string?"
   ]
  },
  {
   "cell_type": "code",
   "execution_count": 3,
   "id": "825cf3a4-0981-452f-846a-f4173424e0e0",
   "metadata": {},
   "outputs": [
    {
     "name": "stdout",
     "output_type": "stream",
     "text": [
      "Before removing the character: Analytics\n"
     ]
    },
    {
     "name": "stdin",
     "output_type": "stream",
     "text": [
      "Enter the postion number of character to be removed from string (First position starts with 0):  3\n"
     ]
    },
    {
     "name": "stdout",
     "output_type": "stream",
     "text": [
      "After removing the character: Anaytics\n"
     ]
    }
   ],
   "source": [
    "input_str = 'Analytics'\n",
    "\n",
    "print(\"Before removing the character: {}\".format(input_str))\n",
    "\n",
    "\n",
    "chr_index = int(input(\"Enter the postion number of character to be removed from string (First position starts with 0): \"))\n",
    "\n",
    "if chr_index < 0:\n",
    "    print(\"Enter the positive index position\")\n",
    "    \n",
    "elif chr_index >=  len(input_str):\n",
    "    print(\"Index position is out of bounds. Give postion number within length of string\")\n",
    "    \n",
    "else:\n",
    "    str_split = [i for i in input_str]\n",
    "    str_split.pop(chr_index)\n",
    "    print(\"After removing the character: {}\".format(''.join(str_split)))"
   ]
  },
  {
   "cell_type": "markdown",
   "id": "51ae6b0f",
   "metadata": {},
   "source": [
    "### 3. Write a Python program to split and join a string?"
   ]
  },
  {
   "cell_type": "code",
   "execution_count": 4,
   "id": "cba8c2f4-1d9f-430b-a682-808ee18788bf",
   "metadata": {},
   "outputs": [
    {
     "name": "stdout",
     "output_type": "stream",
     "text": [
      "Original String: Data analytics is the process of gathering, transforming, and organising information in order to draw conclusions, make predictions, and make better decisions\n",
      "\n",
      "\n",
      "After splitting the string:\n",
      "['Data', 'analytics', 'is', 'the', 'process', 'of', 'gathering,', 'transforming,', 'and', 'organising', 'information', 'in', 'order', 'to', 'draw', 'conclusions,', 'make', 'predictions,', 'and', 'make', 'better', 'decisions']\n",
      "\n",
      "\n",
      "After joining the strings by ':'\n",
      "Data:analytics:is:the:process:of:gathering,:transforming,:and:organising:information:in:order:to:draw:conclusions,:make:predictions,:and:make:better:decisions\n"
     ]
    }
   ],
   "source": [
    "input_str = 'Data analytics is the process of gathering, transforming, and organising information in order to draw conclusions, make predictions, and make better decisions'\n",
    "\n",
    "print(\"Original String: {}\".format(input_str))\n",
    "print(\"\\n\")\n",
    "\n",
    "split_str = input_str.split()\n",
    "print(\"After splitting the string:\")\n",
    "print(split_str)\n",
    "print(\"\\n\")\n",
    "\n",
    "join_str = ':'.join(split_str)\n",
    "print(\"After joining the strings by ':'\")\n",
    "print(join_str)"
   ]
  },
  {
   "cell_type": "markdown",
   "id": "59079fe1",
   "metadata": {},
   "source": [
    "### 4. Write a Python to check if a given string is binary string or not?"
   ]
  },
  {
   "cell_type": "code",
   "execution_count": 6,
   "id": "3a2793a4-f8f4-45bd-bc39-7c319d0d5d2d",
   "metadata": {},
   "outputs": [
    {
     "name": "stdout",
     "output_type": "stream",
     "text": [
      "111010111001011100 is a binary string\n",
      "1010110011k20011 is not a binary string\n"
     ]
    }
   ],
   "source": [
    "binary_str_list = ['111010111001011100', '1010110011k20011']\n",
    "\n",
    "for binary in binary_str_list:\n",
    "    flag = False\n",
    "\n",
    "    for xchr in binary:\n",
    "        if xchr not in  ('0', '1'):\n",
    "            flag = True\n",
    "            break\n",
    "\n",
    "    if flag:\n",
    "        print(\"{} is not a binary string\".format(binary))\n",
    "    else:\n",
    "        print(\"{} is a binary string\".format(binary))"
   ]
  },
  {
   "cell_type": "markdown",
   "id": "4d6cf11a",
   "metadata": {},
   "source": [
    "### 5. Write a Python program to find uncommon words from two Strings?"
   ]
  },
  {
   "cell_type": "code",
   "execution_count": 8,
   "id": "7418de03-28b2-4c18-8aa4-eb770e5936b7",
   "metadata": {},
   "outputs": [
    {
     "name": "stdout",
     "output_type": "stream",
     "text": [
      "Uncommon words are:\n",
      "['systematic', 'computational', 'analysis', 'or', 'statistics', 'process', 'analyzing', 'raw', 'in', 'order', 'to', 'draw', 'out', 'meaningful,', 'actionable', 'insights']\n"
     ]
    }
   ],
   "source": [
    "str1 = 'Analytics is the systematic computational analysis of data or statistics'\n",
    "str2 = 'Data analytics is the process of analyzing raw data in order to draw out meaningful, actionable insights'\n",
    "\n",
    "res_list = []\n",
    "\n",
    "# Convert the string to lower case and then split the string\n",
    "str1_split = str1.lower().split()\n",
    "str2_split = str2.lower().split()\n",
    "\n",
    "# Compare the words in string 1 with string 2\n",
    "for word in str1_split:\n",
    "    if word not in str2_split:\n",
    "        res_list.append(word)\n",
    "    \n",
    "# Compare the words in string 2 with string 1\n",
    "for word in str2_split:\n",
    "    if word not in str1_split:\n",
    "        res_list.append(word)\n",
    "\n",
    "print(\"Uncommon words are:\")\n",
    "print(res_list)\n"
   ]
  },
  {
   "cell_type": "markdown",
   "id": "e2b24677",
   "metadata": {},
   "source": [
    "### 6. Write a Python to find all duplicate characters in string?"
   ]
  },
  {
   "cell_type": "code",
   "execution_count": 10,
   "id": "8c46c55c-fbfb-40a3-9eb1-4cc2ea504be9",
   "metadata": {},
   "outputs": [
    {
     "name": "stdout",
     "output_type": "stream",
     "text": [
      "Duplicate characters in the string are:\n",
      "['m', 'i', 'u', 'l', 'a', 'p', 's', 'c', 'o', 'r', 'n']\n"
     ]
    }
   ],
   "source": [
    "str1 = 'pneumonoultramicroscopicsilicovolcanoconiosis'\n",
    "list_unique_chr = []\n",
    "\n",
    "unique_str1 = set(str1)\n",
    "\n",
    "# Iterate every letter to check whether count is greater than 1 or not\n",
    "for letter in unique_str1:\n",
    "    if str1.count(letter) > 1:\n",
    "        list_unique_chr.append(letter)\n",
    "\n",
    "print(\"Duplicate characters in the string are:\")        \n",
    "print(list_unique_chr)"
   ]
  },
  {
   "cell_type": "markdown",
   "id": "1a6af7e4",
   "metadata": {},
   "source": [
    "### 7. Write a Python Program to check if a string contains any special character?"
   ]
  },
  {
   "cell_type": "code",
   "execution_count": 11,
   "id": "743b88a2-00e9-4fc3-be19-c8bef932c1ff",
   "metadata": {},
   "outputs": [
    {
     "name": "stdout",
     "output_type": "stream",
     "text": [
      "Special character is present in string: Data$Analytics\n",
      "Special character is not present in string: Data Analytics\n"
     ]
    }
   ],
   "source": [
    "# Special character list\n",
    "special_char = '[@_!#$%^&*()<>?/\\|}{~:]'\n",
    "\n",
    "str_list = ['Data$Analytics', 'Data Analytics']\n",
    "\n",
    "for word in str_list:\n",
    "    flag = False\n",
    "\n",
    "    # Iterate every charcater in string and check for specual characters\n",
    "    for letter in word:\n",
    "        if letter in special_char:\n",
    "            flag = True\n",
    "            break\n",
    "\n",
    "    if flag:\n",
    "        print(\"Special character is present in string: {}\".format(word))\n",
    "    else:\n",
    "        print(\"Special character is not present in string: {}\".format(word))"
   ]
  },
  {
   "cell_type": "code",
   "execution_count": null,
   "id": "df08b511-c261-4677-b577-39333e3bc528",
   "metadata": {},
   "outputs": [],
   "source": []
  }
 ],
 "metadata": {
  "kernelspec": {
   "display_name": "Python 3 (ipykernel)",
   "language": "python",
   "name": "python3"
  },
  "language_info": {
   "codemirror_mode": {
    "name": "ipython",
    "version": 3
   },
   "file_extension": ".py",
   "mimetype": "text/x-python",
   "name": "python",
   "nbconvert_exporter": "python",
   "pygments_lexer": "ipython3",
   "version": "3.10.6"
  }
 },
 "nbformat": 4,
 "nbformat_minor": 5
}
