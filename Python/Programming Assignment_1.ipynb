{
 "cells": [
  {
   "cell_type": "markdown",
   "id": "637b47a5",
   "metadata": {},
   "source": [
    "## Programming Assignment_1\n",
    "-------------"
   ]
  },
  {
   "cell_type": "markdown",
   "id": "0c647dbe",
   "metadata": {},
   "source": [
    "### 1. Write a Python program to print \"Hello Python\"?"
   ]
  },
  {
   "cell_type": "code",
   "execution_count": 1,
   "id": "739cbf9a-2cd6-4d0e-bd81-5decb0534970",
   "metadata": {},
   "outputs": [
    {
     "name": "stdout",
     "output_type": "stream",
     "text": [
      "Hello Python\n"
     ]
    }
   ],
   "source": [
    "print(\"Hello Python\")"
   ]
  },
  {
   "cell_type": "markdown",
   "id": "fc18a6cd",
   "metadata": {},
   "source": [
    "### 2. Write a Python program to do arithmetical operations addition and division.?\n"
   ]
  },
  {
   "cell_type": "code",
   "execution_count": 11,
   "id": "c1e674ff-295b-4d49-81e0-40a2db07d6a2",
   "metadata": {},
   "outputs": [
    {
     "name": "stdin",
     "output_type": "stream",
     "text": [
      "Enter the first number  5\n",
      "Enter the second number  2\n"
     ]
    },
    {
     "name": "stdout",
     "output_type": "stream",
     "text": [
      "\n",
      "\n",
      "Addition of 5 and 2 is 7\n",
      "Division of 5 and 2 is 2.5\n"
     ]
    }
   ],
   "source": [
    "num1 = int(input(\"Enter the first number \")) \n",
    "num2 = int(input(\"Enter the second number \"))\n",
    "print(\"\\n\")\n",
    "\n",
    "print(\"Addition of {0} and {1} is {2}\".format(num1, num2, num1 + num2)) #Addition\n",
    "\n",
    "if num2 == 0: # Checking for Division error\n",
    "    print(\"Divide by zero error\")\n",
    "else:\n",
    "    print(\"Division of {0} and {1} is {2}\".format(num1, num2, num1 / num2)) # Division\n",
    "           "
   ]
  },
  {
   "cell_type": "markdown",
   "id": "af6e2429",
   "metadata": {},
   "source": [
    "### 3. Write a Python program to find the area of a triangle?\n"
   ]
  },
  {
   "cell_type": "code",
   "execution_count": 13,
   "id": "597ee4d9-5828-4c6b-97d6-9c89557c83b5",
   "metadata": {},
   "outputs": [
    {
     "name": "stdin",
     "output_type": "stream",
     "text": [
      "Enter the breadth of triangle  6\n",
      "Enter the height of triangle  6\n"
     ]
    },
    {
     "name": "stdout",
     "output_type": "stream",
     "text": [
      "\n",
      "\n",
      "Area of triangle with 6 cm breadth and 6 cm height is 18.0 sq.cm.\n"
     ]
    }
   ],
   "source": [
    "breadth_cm = int(input(\"Enter the breadth of triangle \")) \n",
    "height_cm = int(input(\"Enter the height of triangle \"))\n",
    "print(\"\\n\")\n",
    "\n",
    "# Area of triangle = 0.5 * breadth * height\n",
    "print(\"Area of triangle with {} cm breadth and {} cm height is {} sq.cm.\".format(breadth_cm, height_cm, 0.5 * breadth_cm * height_cm))"
   ]
  },
  {
   "cell_type": "markdown",
   "id": "b8140061",
   "metadata": {},
   "source": [
    "### 4. Write a Python program to swap two variables?\n"
   ]
  },
  {
   "cell_type": "code",
   "execution_count": 14,
   "id": "1d0ba9d2-942c-4445-84cc-3b944c53197b",
   "metadata": {},
   "outputs": [
    {
     "name": "stdin",
     "output_type": "stream",
     "text": [
      "Enter first name:  pratik\n",
      "Enter second name:  aakash\n"
     ]
    },
    {
     "name": "stdout",
     "output_type": "stream",
     "text": [
      "\n",
      "\n",
      "Before swapping var1 = pratik, var2 = aakash.\n",
      "After swapping var1 = aakash, var2 = pratik.\n"
     ]
    }
   ],
   "source": [
    "var1 = input(\"Enter first name: \")\n",
    "var2 = input(\"Enter second name: \")\n",
    "print(\"\\n\")\n",
    "\n",
    "print(\"Before swapping var1 = {}, var2 = {}.\".format(var1, var2))\n",
    "\n",
    "temp = var1\n",
    "var1 = var2\n",
    "var2 = temp\n",
    "\n",
    "print(\"After swapping var1 = {}, var2 = {}.\".format(var1, var2))\n"
   ]
  },
  {
   "cell_type": "markdown",
   "id": "3f8054c1",
   "metadata": {},
   "source": [
    "### 5. Write a Python program to generate a random number?\n"
   ]
  },
  {
   "cell_type": "code",
   "execution_count": 16,
   "id": "17d32f53-d40d-420b-bf98-fd7dcd52dedd",
   "metadata": {},
   "outputs": [],
   "source": [
    "import numpy as np"
   ]
  },
  {
   "cell_type": "code",
   "execution_count": 34,
   "id": "37d74b86-75ea-492f-810f-3c6be42a5e13",
   "metadata": {},
   "outputs": [
    {
     "name": "stdout",
     "output_type": "stream",
     "text": [
      "0.7516514736729963\n",
      "2\n",
      "6\n"
     ]
    }
   ],
   "source": [
    "print(np.random.random()) # Generates random number between 0 and 1\n",
    "print(np.random.randint(5)) # Generated random number between 0 and 4(end number 5 is not included)\n",
    "print(np.random.randint(1,10)) # Generated random number between 1 and 9(end number 10 is not included)"
   ]
  },
  {
   "cell_type": "markdown",
   "id": "b6528305-adc4-4cca-9e5d-a8458d7e669e",
   "metadata": {},
   "source": [
    "# "
   ]
  }
 ],
 "metadata": {
  "kernelspec": {
   "display_name": "Python 3 (ipykernel)",
   "language": "python",
   "name": "python3"
  },
  "language_info": {
   "codemirror_mode": {
    "name": "ipython",
    "version": 3
   },
   "file_extension": ".py",
   "mimetype": "text/x-python",
   "name": "python",
   "nbconvert_exporter": "python",
   "pygments_lexer": "ipython3",
   "version": "3.10.6"
  }
 },
 "nbformat": 4,
 "nbformat_minor": 5
}
