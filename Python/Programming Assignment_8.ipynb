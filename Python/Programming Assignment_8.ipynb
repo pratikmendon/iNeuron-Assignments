{
 "cells": [
  {
   "cell_type": "markdown",
   "id": "9b304197",
   "metadata": {},
   "source": [
    "# Python Basic Programming Assignment 8"
   ]
  },
  {
   "cell_type": "markdown",
   "id": "22789ae6",
   "metadata": {},
   "source": [
    "### 1. Write a Python Program to Add Two Matrices?"
   ]
  },
  {
   "cell_type": "code",
   "execution_count": 14,
   "id": "a6bb4cc3-0626-4fff-802d-a88d1f67f297",
   "metadata": {},
   "outputs": [
    {
     "name": "stdout",
     "output_type": "stream",
     "text": [
      "Array 1:\n",
      "[[8 2 6]\n",
      " [2 2 8]\n",
      " [2 8 5]]\n",
      "\n",
      "Array 2:\n",
      "[[8 7 9]\n",
      " [9 7 5]\n",
      " [4 8 9]]\n",
      "\n",
      "Sum of Array:\n",
      "[[16  9 15]\n",
      " [11  9 13]\n",
      " [ 6 16 14]]\n"
     ]
    }
   ],
   "source": [
    "import numpy as np\n",
    "\n",
    "\n",
    "# Get 9 random numbers from 1 to 10 and reshape into 3 x 3 matrix\n",
    "arr1 = np.random.randint(1,10,9).reshape(3,3)\n",
    "arr2 = np.random.randint(1,10,9).reshape(3,3)\n",
    "\n",
    "sum_array = arr1 + arr2\n",
    "\n",
    "print(\"Array 1:\")\n",
    "print(\"{}\\n\".format(arr1))\n",
    "print(\"Array 2:\")\n",
    "print(\"{}\\n\".format(arr2))\n",
    "print(\"Sum of Array:\")\n",
    "print(\"{}\".format(sum_array))"
   ]
  },
  {
   "cell_type": "markdown",
   "id": "044ceda6",
   "metadata": {},
   "source": [
    "### 2. Write a Python Program to Multiply Two Matrices?"
   ]
  },
  {
   "cell_type": "code",
   "execution_count": 19,
   "id": "1646973a-0113-4109-ae85-833e80b96e08",
   "metadata": {},
   "outputs": [
    {
     "name": "stdout",
     "output_type": "stream",
     "text": [
      "Array 1:\n",
      "[[4 4 5]\n",
      " [6 2 6]\n",
      " [3 8 1]]\n",
      "\n",
      "Array 2:\n",
      "[[5 3 9]\n",
      " [3 2 2]\n",
      " [8 7 3]]\n",
      "\n",
      "Multiplication of Array:\n",
      "[[72 55 59]\n",
      " [84 64 76]\n",
      " [47 32 46]]\n"
     ]
    }
   ],
   "source": [
    "import numpy as np\n",
    "\n",
    "\n",
    "# Get 9 random numbers from 1 to 10 and reshape into 3 x 3 matrix\n",
    "arr1 = np.random.randint(1,10,9).reshape(3,3)\n",
    "arr2 = np.random.randint(1,10,9).reshape(3,3)\n",
    "\n",
    "# Matrix Multiplication using dot function\n",
    "mult_array = np.dot(arr1 , arr2)\n",
    "\n",
    "print(\"Array 1:\")\n",
    "print(\"{}\\n\".format(arr1))\n",
    "print(\"Array 2:\")\n",
    "print(\"{}\\n\".format(arr2))\n",
    "print(\"Multiplication of Array:\")\n",
    "print(\"{}\".format(mult_array))"
   ]
  },
  {
   "cell_type": "markdown",
   "id": "5f688e46",
   "metadata": {},
   "source": [
    "### 3. Write a Python Program to Transpose a Matrix?"
   ]
  },
  {
   "cell_type": "code",
   "execution_count": 20,
   "id": "421f6a69-e6f2-40f9-987b-1e82d92d3712",
   "metadata": {},
   "outputs": [
    {
     "name": "stdout",
     "output_type": "stream",
     "text": [
      "Array:\n",
      "[[4 9 5]\n",
      " [7 5 5]\n",
      " [1 1 9]]\n",
      "\n",
      "Transpose of Array:\n",
      "[[4 7 1]\n",
      " [9 5 1]\n",
      " [5 5 9]]\n"
     ]
    }
   ],
   "source": [
    "# Transpose matrix means column data is converted to row data and vice versa\n",
    "import numpy as np\n",
    "\n",
    "\n",
    "# Get 9 random numbers from 1 to 10 and reshape into 3 x 3 matrix\n",
    "arr = np.random.randint(1,10,9).reshape(3,3)\n",
    "\n",
    "arr_transpose = arr.transpose()\n",
    "\n",
    "print(\"Array:\")\n",
    "print(\"{}\\n\".format(arr))\n",
    "print(\"Transpose of Array:\")\n",
    "print(\"{}\".format(arr_transpose))"
   ]
  },
  {
   "cell_type": "markdown",
   "id": "b2849025",
   "metadata": {},
   "source": [
    "\n",
    "### 4. Write a Python Program to Sort Words in Alphabetic Order?\n"
   ]
  },
  {
   "cell_type": "code",
   "execution_count": 32,
   "id": "84d39149-e183-423c-bab2-b4722d43db16",
   "metadata": {},
   "outputs": [
    {
     "name": "stdout",
     "output_type": "stream",
     "text": [
      "Before Sorting: ['the', 'quick', 'brown', 'fox', 'jumps', 'over', 'the', 'lazy', 'dog']\n",
      "After Sorting: ['brown', 'dog', 'fox', 'jumps', 'lazy', 'over', 'quick', 'the', 'the']\n"
     ]
    }
   ],
   "source": [
    "my_str = \"The Quick Brown Fox Jumps Over the Lazy Dog\"\n",
    "\n",
    "# Convert all words into lower case and then split the sentence \n",
    "my_str_split = my_str.lower().split()\n",
    "print(\"Before Sorting: {}\".format(my_str_split))\n",
    "\n",
    "my_str_split.sort()\n",
    "print(\"After Sorting: {}\".format(my_str_split))\n"
   ]
  },
  {
   "cell_type": "markdown",
   "id": "48ac7b24",
   "metadata": {},
   "source": [
    "### 5. Write a Python Program to Remove Punctuation From a String?"
   ]
  },
  {
   "cell_type": "code",
   "execution_count": 33,
   "id": "33e4b536-8e68-4683-bc95-3d7f790a8e39",
   "metadata": {},
   "outputs": [
    {
     "name": "stdout",
     "output_type": "stream",
     "text": [
      "Before removing punctuation: The :Quick ;Brown Fox, Jumps. Over !the @Lazy Dog\n",
      "After removing punctuation: The Quick Brown Fox Jumps Over the Lazy Dog\n"
     ]
    }
   ],
   "source": [
    "import string\n",
    "my_str = \"The :Quick ;Brown Fox, Jumps. Over !the @Lazy Dog\"\n",
    "print(\"Before removing punctuation: {}\".format(my_str))\n",
    "\n",
    "my_str = my_str.translate(str.maketrans('', '', string.punctuation))\n",
    "print(\"After removing punctuation: {}\".format(my_str))"
   ]
  },
  {
   "cell_type": "code",
   "execution_count": null,
   "id": "571e8c94-2ad3-49a9-b95b-aeb8c769b2c9",
   "metadata": {},
   "outputs": [],
   "source": []
  }
 ],
 "metadata": {
  "kernelspec": {
   "display_name": "Python 3 (ipykernel)",
   "language": "python",
   "name": "python3"
  },
  "language_info": {
   "codemirror_mode": {
    "name": "ipython",
    "version": 3
   },
   "file_extension": ".py",
   "mimetype": "text/x-python",
   "name": "python",
   "nbconvert_exporter": "python",
   "pygments_lexer": "ipython3",
   "version": "3.10.6"
  }
 },
 "nbformat": 4,
 "nbformat_minor": 5
}
