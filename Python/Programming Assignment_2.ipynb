{
 "cells": [
  {
   "cell_type": "markdown",
   "id": "08c66ea5",
   "metadata": {},
   "source": [
    "## Programming Assignment_2\n",
    "-------------"
   ]
  },
  {
   "cell_type": "markdown",
   "id": "4e50cf42",
   "metadata": {
    "tags": []
   },
   "source": [
    "### 1. Write a Python program to convert kilometers to miles?\n"
   ]
  },
  {
   "cell_type": "code",
   "execution_count": 2,
   "id": "23f1f710-b5d4-4996-bf10-ff2bad1b5d62",
   "metadata": {},
   "outputs": [
    {
     "name": "stdin",
     "output_type": "stream",
     "text": [
      "Enter the length(km):  5\n"
     ]
    },
    {
     "name": "stdout",
     "output_type": "stream",
     "text": [
      "5.0 km = 3.10685595 miles\n"
     ]
    }
   ],
   "source": [
    "MILES = 0.62137119 # 1km = 0.62137119 miles\n",
    "\n",
    "input_km = abs(float(input(\"Enter the length(km): \")))\n",
    "km_to_miles = input_km * MILES # Convert km to miles\n",
    "\n",
    "print(\"{0} km = {1} miles\".format(input_km, km_to_miles))\n",
    "               "
   ]
  },
  {
   "cell_type": "markdown",
   "id": "0df4e6bf",
   "metadata": {},
   "source": [
    "### 2.Write a Python program to convert Celsius to Fahrenheit?"
   ]
  },
  {
   "cell_type": "code",
   "execution_count": 3,
   "id": "7060660f-ebe8-41b6-91c4-32bf71fe4e92",
   "metadata": {},
   "outputs": [
    {
     "name": "stdin",
     "output_type": "stream",
     "text": [
      "Enter the temperature in Celsius:  1\n"
     ]
    },
    {
     "name": "stdout",
     "output_type": "stream",
     "text": [
      "1.0 Celsius = 33.8 Fahrenheit\n"
     ]
    }
   ],
   "source": [
    "# Formula : 1 deg Celsius = (1 * 9/5) + 32 Fahrenheit\n",
    "\n",
    "temp_cel = abs(float(input(\"Enter the temperature in Celsius: \")))\n",
    "cel_to_fahr = (temp_cel * 9 / 5) + 32 # Convert Celsius to Fahrenheit\n",
    "\n",
    "print(\"{0} Celsius = {1} Fahrenheit\".format(temp_cel, cel_to_fahr))"
   ]
  },
  {
   "cell_type": "markdown",
   "id": "46129b8e",
   "metadata": {},
   "source": [
    "### 3. Write a Python program to display calendar?\n"
   ]
  },
  {
   "cell_type": "code",
   "execution_count": 8,
   "id": "d3f87efe-f06b-4a5c-a689-0697b503b941",
   "metadata": {},
   "outputs": [
    {
     "name": "stdin",
     "output_type": "stream",
     "text": [
      "Enter the four digit calendar year:  2022\n"
     ]
    },
    {
     "name": "stdout",
     "output_type": "stream",
     "text": [
      "                                  2022\n",
      "\n",
      "      January                   February                   March\n",
      "Mo Tu We Th Fr Sa Su      Mo Tu We Th Fr Sa Su      Mo Tu We Th Fr Sa Su\n",
      "                1  2          1  2  3  4  5  6          1  2  3  4  5  6\n",
      " 3  4  5  6  7  8  9       7  8  9 10 11 12 13       7  8  9 10 11 12 13\n",
      "10 11 12 13 14 15 16      14 15 16 17 18 19 20      14 15 16 17 18 19 20\n",
      "17 18 19 20 21 22 23      21 22 23 24 25 26 27      21 22 23 24 25 26 27\n",
      "24 25 26 27 28 29 30      28                        28 29 30 31\n",
      "31\n",
      "\n",
      "       April                      May                       June\n",
      "Mo Tu We Th Fr Sa Su      Mo Tu We Th Fr Sa Su      Mo Tu We Th Fr Sa Su\n",
      "             1  2  3                         1             1  2  3  4  5\n",
      " 4  5  6  7  8  9 10       2  3  4  5  6  7  8       6  7  8  9 10 11 12\n",
      "11 12 13 14 15 16 17       9 10 11 12 13 14 15      13 14 15 16 17 18 19\n",
      "18 19 20 21 22 23 24      16 17 18 19 20 21 22      20 21 22 23 24 25 26\n",
      "25 26 27 28 29 30         23 24 25 26 27 28 29      27 28 29 30\n",
      "                          30 31\n",
      "\n",
      "        July                     August                  September\n",
      "Mo Tu We Th Fr Sa Su      Mo Tu We Th Fr Sa Su      Mo Tu We Th Fr Sa Su\n",
      "             1  2  3       1  2  3  4  5  6  7                1  2  3  4\n",
      " 4  5  6  7  8  9 10       8  9 10 11 12 13 14       5  6  7  8  9 10 11\n",
      "11 12 13 14 15 16 17      15 16 17 18 19 20 21      12 13 14 15 16 17 18\n",
      "18 19 20 21 22 23 24      22 23 24 25 26 27 28      19 20 21 22 23 24 25\n",
      "25 26 27 28 29 30 31      29 30 31                  26 27 28 29 30\n",
      "\n",
      "      October                   November                  December\n",
      "Mo Tu We Th Fr Sa Su      Mo Tu We Th Fr Sa Su      Mo Tu We Th Fr Sa Su\n",
      "                1  2          1  2  3  4  5  6                1  2  3  4\n",
      " 3  4  5  6  7  8  9       7  8  9 10 11 12 13       5  6  7  8  9 10 11\n",
      "10 11 12 13 14 15 16      14 15 16 17 18 19 20      12 13 14 15 16 17 18\n",
      "17 18 19 20 21 22 23      21 22 23 24 25 26 27      19 20 21 22 23 24 25\n",
      "24 25 26 27 28 29 30      28 29 30                  26 27 28 29 30 31\n",
      "31\n",
      "\n"
     ]
    }
   ],
   "source": [
    "# import calendar module\n",
    "import calendar\n",
    "\n",
    "x_year = int(input(\"Enter the four digit calendar year: \"))\n",
    "\n",
    "if x_year <= 0:\n",
    "    print(\"Year cannot be 0 or negative\")\n",
    "else:\n",
    "    print(calendar.calendar(x_year))"
   ]
  },
  {
   "cell_type": "markdown",
   "id": "db2bf0f7",
   "metadata": {},
   "source": [
    "### 4. Write a Python program to solve quadratic equation?"
   ]
  },
  {
   "cell_type": "code",
   "execution_count": 4,
   "id": "779be8e3-2124-4bf0-8fca-708def95a443",
   "metadata": {},
   "outputs": [
    {
     "name": "stdin",
     "output_type": "stream",
     "text": [
      "Enter the coeeficient a:  3\n",
      "Enter the coeeficient b:  2\n",
      "Enter the coeeficient c:  9\n"
     ]
    },
    {
     "name": "stdout",
     "output_type": "stream",
     "text": [
      "Complex roots : ((-0.3333333333333332+1.6996731711975948j), (-0.3333333333333334-1.6996731711975948j))\n"
     ]
    }
   ],
   "source": [
    "# Quadratic euation is displayed in form a * x ** 2 + b * x + c = 0 where a,b,c are real coefficients\n",
    "# if a = 0, then it cannot be called as quadratic equation\n",
    "# Queadratic equation is solved by finding its roots x = (-b ± (b ** 2 - 4 * a * c) ** 0.5) / (2 * a)\n",
    "\n",
    "# import cmath module to handle negative square roots\n",
    "import cmath\n",
    "\n",
    "a = float(input(\"Enter the coeeficient a: \"))\n",
    "b = float(input(\"Enter the coeeficient b: \"))\n",
    "c = float(input(\"Enter the coeeficient c: \"))\n",
    "\n",
    "if a == 0:\n",
    "    print(\"Incorrect Quadratic equation. Coefficient a is 0.\")\n",
    "else:\n",
    "    # find discriminant b ** 2 - 4 * a * c\n",
    "    dis = (b ** 2) - (4 * a * c)\n",
    "    sqrt_dis = dis ** 0.5 # taking square root of discriminant\n",
    "    \n",
    "    # Checking conditions of discriminat\n",
    "    \n",
    "    if dis == 0:\n",
    "        roots = -b / (2 * a)\n",
    "        print(\"real and same roots : {}\".format(roots))\n",
    "    \n",
    "    elif dis > 0:\n",
    "        root1 = (-b + sqrt_dis) / (2 * a)\n",
    "        root2 = (-b - sqrt_dis) / (2 * a)\n",
    "        print(\"real and diiferent roots : ({0}, {1})\".format(root1, root2))\n",
    "        \n",
    "    else:\n",
    "        root1 = (-b + sqrt_dis) / (2 * a)\n",
    "        root2 = (-b - sqrt_dis) / (2 * a)\n",
    "        print(\"Complex roots : ({}, {})\".format(root1, root2))\n",
    "    \n",
    "    \n",
    "    "
   ]
  },
  {
   "cell_type": "markdown",
   "id": "f70f74c9",
   "metadata": {},
   "source": [
    "### 5. Write a Python program to swap two variables without temp variable?"
   ]
  },
  {
   "cell_type": "code",
   "execution_count": 28,
   "id": "30cc0e73-0965-4751-97e7-5ccc0a79481b",
   "metadata": {},
   "outputs": [
    {
     "name": "stdin",
     "output_type": "stream",
     "text": [
      "Enter first name:  aakash\n",
      "Enter second name:  pratik\n"
     ]
    },
    {
     "name": "stdout",
     "output_type": "stream",
     "text": [
      "\n",
      "\n",
      "Before swapping var1 = aakash, var2 = pratik.\n",
      "After swapping var1 = pratik, var2 = aakash.\n"
     ]
    }
   ],
   "source": [
    "var1 = input(\"Enter first name: \")\n",
    "var2 = input(\"Enter second name: \")\n",
    "print(\"\\n\")\n",
    "\n",
    "print(\"Before swapping var1 = {}, var2 = {}.\".format(var1, var2))\n",
    "\n",
    "var1, var2 = var2, var1\n",
    "\n",
    "print(\"After swapping var1 = {}, var2 = {}.\".format(var1, var2))"
   ]
  },
  {
   "cell_type": "code",
   "execution_count": null,
   "id": "55c555bb-8777-4f7b-8d9f-4456a6ef4acd",
   "metadata": {},
   "outputs": [],
   "source": []
  }
 ],
 "metadata": {
  "kernelspec": {
   "display_name": "Python 3 (ipykernel)",
   "language": "python",
   "name": "python3"
  },
  "language_info": {
   "codemirror_mode": {
    "name": "ipython",
    "version": 3
   },
   "file_extension": ".py",
   "mimetype": "text/x-python",
   "name": "python",
   "nbconvert_exporter": "python",
   "pygments_lexer": "ipython3",
   "version": "3.10.6"
  }
 },
 "nbformat": 4,
 "nbformat_minor": 5
}
