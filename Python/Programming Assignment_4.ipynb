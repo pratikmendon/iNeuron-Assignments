{
 "cells": [
  {
   "cell_type": "markdown",
   "id": "20cb4340",
   "metadata": {},
   "source": [
    "## Programming Assignment_4\n",
    "----------------"
   ]
  },
  {
   "cell_type": "markdown",
   "id": "4fdb6695",
   "metadata": {},
   "source": [
    "### 1. Write a Python Program to Find the Factorial of a Number?"
   ]
  },
  {
   "cell_type": "code",
   "execution_count": 1,
   "id": "6d184c3c-1197-4ccf-a8df-88ece2c6f056",
   "metadata": {},
   "outputs": [
    {
     "name": "stdin",
     "output_type": "stream",
     "text": [
      "Enter the number to find is factorial:  6\n"
     ]
    },
    {
     "name": "stdout",
     "output_type": "stream",
     "text": [
      "Factorial of 6 is 720.\n"
     ]
    }
   ],
   "source": [
    "# Factorial of 5 is  5! = 5 * 4 * 3 * 2 * 1 = 120\n",
    "import math\n",
    "\n",
    "num = int(input(\"Enter the number to find is factorial: \"))\n",
    "\n",
    "if num < 0:\n",
    "    print(\"Factorial not defined for negative numbers.\")\n",
    "else:\n",
    "    factorial_num = math.factorial(num)\n",
    "    print(\"Factorial of {} is {}.\".format(num, factorial_num))"
   ]
  },
  {
   "cell_type": "markdown",
   "id": "e6beef62",
   "metadata": {},
   "source": [
    "### 2. Write a Python Program to Display the multiplication Table?"
   ]
  },
  {
   "cell_type": "code",
   "execution_count": 16,
   "id": "ff0cdced-c907-4f7e-9956-f5c057917219",
   "metadata": {},
   "outputs": [
    {
     "name": "stdin",
     "output_type": "stream",
     "text": [
      "Enter the number to display its multiplication table:  5\n"
     ]
    },
    {
     "name": "stdout",
     "output_type": "stream",
     "text": [
      "5 X 1 = 5\n",
      "5 X 2 = 10\n",
      "5 X 3 = 15\n",
      "5 X 4 = 20\n",
      "5 X 5 = 25\n",
      "5 X 6 = 30\n",
      "5 X 7 = 35\n",
      "5 X 8 = 40\n",
      "5 X 9 = 45\n",
      "5 X 10 = 50\n"
     ]
    }
   ],
   "source": [
    "num = int(input(\"Enter the number to display its multiplication table: \"))\n",
    "\n",
    "# Multiple range from 1 to 10\n",
    "for i in range(1,11):\n",
    "    res = num * i\n",
    "    print(\"{} X {} = {}\".format(num, i, res))\n",
    "          "
   ]
  },
  {
   "cell_type": "markdown",
   "id": "7de7eba5",
   "metadata": {},
   "source": [
    "### 3. Write a Python Program to Print the Fibonacci sequence?\n"
   ]
  },
  {
   "cell_type": "code",
   "execution_count": 29,
   "id": "f8339fa8-5d88-41af-8017-970107d69bb1",
   "metadata": {},
   "outputs": [
    {
     "name": "stdin",
     "output_type": "stream",
     "text": [
      "How many numbers should be displayed in Finonacci sequence:  8\n"
     ]
    },
    {
     "name": "stdout",
     "output_type": "stream",
     "text": [
      "0\n",
      "1\n",
      "1\n",
      "2\n",
      "3\n",
      "5\n",
      "8\n",
      "13\n"
     ]
    }
   ],
   "source": [
    "seq = int(input(\"How many numbers should be displayed in Finonacci sequence: \"))\n",
    "\n",
    "if seq <= 0:\n",
    "    print(\"Incorrect sequence.\")\n",
    "else:\n",
    "    num1 = 0\n",
    "    num2 = 1\n",
    "\n",
    "    for i in range(seq):\n",
    "        print(num1)\n",
    "    \n",
    "        next_num = num1 + num2\n",
    "        num1 , num2 = num2, next_num"
   ]
  },
  {
   "cell_type": "markdown",
   "id": "0446442e",
   "metadata": {},
   "source": [
    "### 4. Write a Python Program to Check Armstrong Number?"
   ]
  },
  {
   "cell_type": "code",
   "execution_count": 22,
   "id": "57a7115c-7a6a-4a39-adc0-4493f8562a9c",
   "metadata": {},
   "outputs": [
    {
     "name": "stdin",
     "output_type": "stream",
     "text": [
      "Enter the number to check whether it's an Armstrong number or not:  407\n"
     ]
    },
    {
     "name": "stdout",
     "output_type": "stream",
     "text": [
      "407 is an Armstrong number.\n"
     ]
    }
   ],
   "source": [
    "# Armstrong number is number that is equal to sum of its cube of its digits\n",
    "# 153 = 1**3 + 5**3 + 3**3 = 153\n",
    "\n",
    "num = int(input(\"Enter the number to check whether it's an Armstrong number or not: \"))\n",
    "\n",
    "res = 0\n",
    "\n",
    "if num <= 0:\n",
    "    print(\"Enter positive number greater than 1.\")\n",
    "else:\n",
    "    temp = num\n",
    "    # divide number by 10, cube the remainder and swap the original number by quotient. Repeat the process\n",
    "    while temp != 0:\n",
    "        rem = temp % 10\n",
    "        res += rem ** 3\n",
    "        temp  //= 10\n",
    "    \n",
    "if res == num:\n",
    "    print(\"{} is an Armstrong number.\".format(num))\n",
    "else:\n",
    "    print(\"{} is not an Armstrong number.\".format(num))"
   ]
  },
  {
   "cell_type": "markdown",
   "id": "a6f9adfe",
   "metadata": {},
   "source": [
    "### 5. Write a Python Program to Find Armstrong Number in an Interval?"
   ]
  },
  {
   "cell_type": "code",
   "execution_count": 14,
   "id": "16ec9044-cee3-4553-831a-7a53063466b5",
   "metadata": {},
   "outputs": [
    {
     "name": "stdin",
     "output_type": "stream",
     "text": [
      "Enter the interval till you want tom check Armstrong number:   1000\n"
     ]
    },
    {
     "name": "stdout",
     "output_type": "stream",
     "text": [
      "0\n",
      "1\n",
      "153\n",
      "370\n",
      "371\n",
      "407\n"
     ]
    }
   ],
   "source": [
    "num_range = int(input(\"Enter the interval till you want tom check Armstrong number:  \"))\n",
    "\n",
    "if num_range <= 0:\n",
    "    print(\"Enter positive number greater than 1.\")\n",
    "    \n",
    "else:\n",
    "        \n",
    "    for num in range(num_range):\n",
    "        res = 0\n",
    "\n",
    "        temp = num\n",
    "        # divide number by 10, cube the remainder and swap the original number by quotient. Repeat the process\n",
    "        while temp != 0:\n",
    "            rem = temp % 10\n",
    "            res += rem ** 3\n",
    "            temp  //= 10\n",
    "\n",
    "        if res == num:\n",
    "            print(num)"
   ]
  },
  {
   "cell_type": "markdown",
   "id": "157cad60",
   "metadata": {},
   "source": [
    "### 6. Write a Python Program to Find the Sum of Natural Numbers?"
   ]
  },
  {
   "cell_type": "code",
   "execution_count": 21,
   "id": "e4c581d7-d0c5-48d3-abae-9a73823a6ac5",
   "metadata": {},
   "outputs": [
    {
     "name": "stdin",
     "output_type": "stream",
     "text": [
      "Enter the number to find sum from 1 till that number:  15\n"
     ]
    },
    {
     "name": "stdout",
     "output_type": "stream",
     "text": [
      "Sum of first 15 natural numbers is 120.0\n"
     ]
    }
   ],
   "source": [
    "# Sum of n natural numbers  = n * (n+1)/2\n",
    "# e.g. to find sum from 1 till n = 10, 10 * 11 / 2 = 55\n",
    "\n",
    "\n",
    "num = int(input(\"Enter the number to find sum from 1 till that number: \"))\n",
    "\n",
    "if num <= 0:\n",
    "    print(\"Natural numbers should be greater than 1\")\n",
    "else:\n",
    "    res = num * (num + 1) / 2\n",
    "\n",
    "    print(\"Sum of first {} natural numbers is {}\".format(num, res))\n",
    "          "
   ]
  },
  {
   "cell_type": "code",
   "execution_count": null,
   "id": "51649dd3-94ef-4112-ad20-3b67621fe620",
   "metadata": {},
   "outputs": [],
   "source": []
  }
 ],
 "metadata": {
  "kernelspec": {
   "display_name": "Python 3 (ipykernel)",
   "language": "python",
   "name": "python3"
  },
  "language_info": {
   "codemirror_mode": {
    "name": "ipython",
    "version": 3
   },
   "file_extension": ".py",
   "mimetype": "text/x-python",
   "name": "python",
   "nbconvert_exporter": "python",
   "pygments_lexer": "ipython3",
   "version": "3.10.6"
  }
 },
 "nbformat": 4,
 "nbformat_minor": 5
}
