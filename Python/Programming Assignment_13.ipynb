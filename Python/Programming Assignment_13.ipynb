{
 "cells": [
  {
   "cell_type": "markdown",
   "id": "62fd0c8e",
   "metadata": {},
   "source": [
    "# Python Programming Basic Assignment 13"
   ]
  },
  {
   "cell_type": "markdown",
   "id": "ed4a3c0b",
   "metadata": {},
   "source": [
    "\n",
    "### 1. Write a program that calculates and prints the value according to the given formula:\n",
    "Q = Square root of [(2 C D)/H]\n",
    "\n",
    "Following are the fixed values of C and H:\n",
    "\n",
    "C is 50. H is 30.\n",
    "\n",
    "D is the variable whose values should be input to your program in a comma-separated sequence.\n",
    "\n",
    "Example\n",
    "\n",
    "Let us assume the following comma separated input sequence is given to the program:\n",
    "\n",
    "100,150,180\n",
    "\n",
    "The output of the program should be:\n",
    "\n",
    "18,22,24"
   ]
  },
  {
   "cell_type": "code",
   "execution_count": 82,
   "id": "6e470d47-a8d8-445a-a84d-deed61159f0b",
   "metadata": {},
   "outputs": [
    {
     "name": "stdin",
     "output_type": "stream",
     "text": [
      "Enter the numbers seperated by comma(,):  100,150,180\n"
     ]
    },
    {
     "name": "stdout",
     "output_type": "stream",
     "text": [
      "18,22,24\n"
     ]
    }
   ],
   "source": [
    "import math\n",
    "\n",
    "# Fixed values of formula\n",
    "C = 50\n",
    "H = 30\n",
    "\n",
    "# Enter the inputs in comma seperated sequence\n",
    "numbers = input(\"Enter the numbers seperated by comma(,): \")\n",
    "if len(numbers) == 0:\n",
    "    print(\"Enter at least one number\")\n",
    "    \n",
    "else:\n",
    "\n",
    "    num_list = numbers.split(',')\n",
    "    res_list = []\n",
    "\n",
    "    # Iterate through every numbers in list and input it in formula\n",
    "    for D in num_list:\n",
    "        res = round(math.sqrt((2 * C * int(D)) / H))\n",
    "        res_list.append(res)\n",
    "\n",
    "    # Convert elements in list into string and join it\n",
    "    for i in range(len(res_list)):\n",
    "        res_list[i] = str(res_list[i])\n",
    "\n",
    "    print(','.join(res_list))"
   ]
  },
  {
   "cell_type": "markdown",
   "id": "ed37b6ed",
   "metadata": {},
   "source": [
    "### 2. Write a program which takes 2 digits, X,Y as input and generates a 2-dimensional array. The element value in the i-th row and j-th column of the array should be i*j."
   ]
  },
  {
   "cell_type": "code",
   "execution_count": 83,
   "id": "a4b59534-54f2-40d1-a556-c3b988ac27b7",
   "metadata": {},
   "outputs": [
    {
     "name": "stdin",
     "output_type": "stream",
     "text": [
      "Enter a two digit number:  34\n"
     ]
    },
    {
     "name": "stdout",
     "output_type": "stream",
     "text": [
      "\n",
      "2D Array:\n",
      "[[7 8 3 5]\n",
      " [5 2 6 9]\n",
      " [1 5 5 4]]\n"
     ]
    }
   ],
   "source": [
    "import numpy as np\n",
    "\n",
    "num_2digit = input(\"Enter a two digit number: \")\n",
    "\n",
    "# Check if number of digits is 2 or not\n",
    "if len(num_2digit) != 2:\n",
    "    print(\"Please enter a two digit number\")\n",
    "    \n",
    "else:\n",
    "    # Seperate first and second digit into row and column variable\n",
    "    row_digit = int(num_2digit[0])\n",
    "    col_digit = int(num_2digit[1])\n",
    "    \n",
    "    # prepare 2-d array using row and column variable as size and get random elements between 0 and 10\n",
    "    array_2d = np.random.randint(0, 10, size = (row_digit, col_digit))\n",
    "    \n",
    "    print(\"\\n2D Array:\")\n",
    "    print(array_2d)\n"
   ]
  },
  {
   "cell_type": "markdown",
   "id": "bc7f977b",
   "metadata": {},
   "source": [
    "### 3. Write a program that accepts a comma separated sequence of words as input and prints the words in a comma-separated sequence after sorting them alphabetically."
   ]
  },
  {
   "cell_type": "code",
   "execution_count": 84,
   "id": "d8b852c7-6240-4ee8-979d-ee3349c5cf08",
   "metadata": {},
   "outputs": [
    {
     "name": "stdin",
     "output_type": "stream",
     "text": [
      "Enter random words:  data,analytics,check,test\n"
     ]
    },
    {
     "name": "stdout",
     "output_type": "stream",
     "text": [
      "analytics,check,data,test\n"
     ]
    }
   ],
   "source": [
    "words_seq = input(\"Enter random words: \")\n",
    "words_seq_list = words_seq.lower().split(',')\n",
    "\n",
    "# Check number of words entered\n",
    "if len(words_seq_list) == 1:\n",
    "    print(\"Enter a minimum of 2 words\")\n",
    "    \n",
    "else:\n",
    "    \n",
    "    # Sort the words in list\n",
    "    word_list = words_seq_list.copy()\n",
    "    word_list.sort()\n",
    "    \n",
    "    print(','.join(word_list))\n",
    "    "
   ]
  },
  {
   "cell_type": "markdown",
   "id": "171c3d90",
   "metadata": {},
   "source": [
    "### 4. Write a program that accepts a sequence of whitespace separated words as input and prints the words after removing all duplicate words and sorting them alphanumerically."
   ]
  },
  {
   "cell_type": "code",
   "execution_count": 87,
   "id": "908eec9f-e340-4032-85a9-c719441d3199",
   "metadata": {},
   "outputs": [
    {
     "name": "stdin",
     "output_type": "stream",
     "text": [
      "Enter the words seperated by space:  hello world and practice makes perfect and hello world again\n"
     ]
    },
    {
     "name": "stdout",
     "output_type": "stream",
     "text": [
      "again and hello makes perfect practice world\n"
     ]
    }
   ],
   "source": [
    "words_seq = input(\"Enter the words seperated by space: \")\n",
    "words_seq_list = words_seq.lower().split(' ')\n",
    "\n",
    "\n",
    "# Check the number of words\n",
    "if len(words_seq_list) == 1:\n",
    "    print(\"Enter a minimum of 2 words\")\n",
    "    \n",
    "else:\n",
    "    \n",
    "    unique_words = []\n",
    "    \n",
    "    # Check for unique words and append it in new list\n",
    "    for word in words_seq_list:\n",
    "        if word not in unique_words:\n",
    "            unique_words.append(word)\n",
    "    \n",
    "    # Sort the unique words and join\n",
    "    unique_words_sort = unique_words.copy()\n",
    "    unique_words_sort.sort()\n",
    "\n",
    "    print(' '.join(unique_words_sort))"
   ]
  },
  {
   "cell_type": "markdown",
   "id": "88d25c49",
   "metadata": {},
   "source": [
    "### 5. Write a program that accepts a sentence and calculate the number of letters and digits."
   ]
  },
  {
   "cell_type": "code",
   "execution_count": 88,
   "id": "6d253267-49fc-453d-8bbe-3d215b410093",
   "metadata": {},
   "outputs": [
    {
     "name": "stdin",
     "output_type": "stream",
     "text": [
      "Enter the words seperated by space:  hello world @! 12345\n"
     ]
    },
    {
     "name": "stdout",
     "output_type": "stream",
     "text": [
      "Letters count : 10\n",
      "Digits count : 5\n"
     ]
    }
   ],
   "source": [
    "words_seq = input(\"Enter the words seperated by space: \")\n",
    "words_seq_list = list(words_seq)\n",
    "\n",
    "# Check number of words\n",
    "if len(words_seq_list) == 1:\n",
    "    print(\"Enter a minimum of 2 words\")\n",
    "    \n",
    "else:\n",
    "\n",
    "    letters, digits = 0, 0\n",
    "    \n",
    "    # Count the number of letters and digits in list\n",
    "    for word in words_seq_list:\n",
    "        if word.isalpha():\n",
    "            letters += 1\n",
    "        elif word.isdigit():\n",
    "            digits +=1\n",
    "        else:\n",
    "            pass\n",
    "        \n",
    "    print(\"Letters count : {}\".format(letters))\n",
    "    print(\"Digits count : {}\".format(digits))"
   ]
  },
  {
   "cell_type": "markdown",
   "id": "9695c4ca",
   "metadata": {},
   "source": [
    "### 6. A website requires the users to input username and password to register. Write a program to check the validity of password input by users."
   ]
  },
  {
   "cell_type": "code",
   "execution_count": 75,
   "id": "466710da-bad8-4cb7-a1e6-6cf5546d4b35",
   "metadata": {},
   "outputs": [
    {
     "name": "stdin",
     "output_type": "stream",
     "text": [
      "Enter the username:  dataanalytics\n",
      "Enter the password:  Data@123455\n"
     ]
    },
    {
     "name": "stdout",
     "output_type": "stream",
     "text": [
      "Valid Password\n"
     ]
    }
   ],
   "source": [
    "import re\n",
    "username = input(\"Enter the username: \")\n",
    "password = input(\"Enter the password: \")\n",
    "\n",
    "# Check whether username is blank or not.\n",
    "if len(username) == 0:\n",
    "    print(\"Username cannot be blank\")\n",
    "    \n",
    "else:\n",
    "\n",
    "    flag = True\n",
    "    while flag:  \n",
    "        # Password should have minimum length of 6 and maximum of 12 characters\n",
    "        if (len(password)<6 or len(password)>12):\n",
    "            break\n",
    "            \n",
    "        # Check for lower case letters\n",
    "        elif not re.search(\"[a-z]\",password):\n",
    "            break\n",
    "            \n",
    "        # Check for number\n",
    "        elif not re.search(\"[0-9]\",password):\n",
    "            break\n",
    "            \n",
    "        # Check for upper case characters\n",
    "        elif not re.search(\"[A-Z]\",password):\n",
    "            break\n",
    "            \n",
    "        # Check for special characters\n",
    "        elif not re.search(\"[$#@]\",password):\n",
    "            break\n",
    "            \n",
    "        # Check for white space\n",
    "        elif re.search(\"\\s\",password):\n",
    "            break\n",
    "        else:\n",
    "            print(\"Valid Password\")\n",
    "            flag=False\n",
    "            break\n",
    "            \n",
    "if flag:\n",
    "    print(\"Invalid Password.\")\n",
    "    print(\"Password should have minimum length of 6 and maximum of 12 characters.\")\n",
    "    print(\"Password should contain one lowercase letter.\")\n",
    "    print(\"Password should contain one uppercase letter.\")\n",
    "    print(\"Password should contain one number.\")\n",
    "    print(\"Password should contain one special characters.\")\n",
    "    print(\"Password should not contain blank spaces.\")"
   ]
  },
  {
   "cell_type": "code",
   "execution_count": null,
   "id": "7248e84b-4056-47d6-a66c-6533aaf3080f",
   "metadata": {},
   "outputs": [],
   "source": []
  }
 ],
 "metadata": {
  "kernelspec": {
   "display_name": "Python 3 (ipykernel)",
   "language": "python",
   "name": "python3"
  },
  "language_info": {
   "codemirror_mode": {
    "name": "ipython",
    "version": 3
   },
   "file_extension": ".py",
   "mimetype": "text/x-python",
   "name": "python",
   "nbconvert_exporter": "python",
   "pygments_lexer": "ipython3",
   "version": "3.10.6"
  }
 },
 "nbformat": 4,
 "nbformat_minor": 5
}
