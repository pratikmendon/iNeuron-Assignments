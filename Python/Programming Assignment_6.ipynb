{
 "cells": [
  {
   "cell_type": "markdown",
   "id": "84a41a9f",
   "metadata": {},
   "source": [
    "# Programming Basic Assignment 6"
   ]
  },
  {
   "cell_type": "markdown",
   "id": "a4b40558",
   "metadata": {},
   "source": [
    "### 1. Write a Python Program to Display Fibonacci Sequence Using Recursion?"
   ]
  },
  {
   "cell_type": "code",
   "execution_count": 6,
   "id": "b9d543bc-a557-4edc-b041-b354a28ea688",
   "metadata": {},
   "outputs": [
    {
     "name": "stdin",
     "output_type": "stream",
     "text": [
      "How many numbers should be displayed in Finonacci sequence:  10\n"
     ]
    },
    {
     "name": "stdout",
     "output_type": "stream",
     "text": [
      "0\n",
      "1\n",
      "1\n",
      "2\n",
      "3\n",
      "5\n",
      "8\n",
      "13\n",
      "21\n",
      "34\n"
     ]
    }
   ],
   "source": [
    "def fibonacci_rec(num):\n",
    "    if num <= 1:\n",
    "        return num\n",
    "    else:\n",
    "        return (fibonacci_rec(num - 1) + fibonacci_rec(num - 2))\n",
    "\n",
    "seq = int(input(\"How many numbers should be displayed in Finonacci sequence: \"))\n",
    "\n",
    "if seq <= 0:\n",
    "    print(\"Incorrect sequence.\")\n",
    "else:\n",
    "    \n",
    "    \n",
    "    for i in range(seq):\n",
    "        print(fibonacci_rec(i))\n",
    "    "
   ]
  },
  {
   "cell_type": "markdown",
   "id": "d7a57f60",
   "metadata": {},
   "source": [
    "### 2. Write a Python Program to Find Factorial of Number Using Recursion?"
   ]
  },
  {
   "cell_type": "code",
   "execution_count": 9,
   "id": "7705d7e9-73f5-479a-8782-5dcba8e3a252",
   "metadata": {},
   "outputs": [
    {
     "name": "stdin",
     "output_type": "stream",
     "text": [
      "Enter the number to find the factorial:  5\n"
     ]
    },
    {
     "name": "stdout",
     "output_type": "stream",
     "text": [
      "Factorial of 5 is 120\n"
     ]
    }
   ],
   "source": [
    "def factorial_num(num):\n",
    "    if  num == 0 or num == 1:\n",
    "        return 1\n",
    "    else:\n",
    "        return num * factorial_num(num - 1)\n",
    "\n",
    "\n",
    "number = int(input(\"Enter the number to find the factorial: \"))\n",
    "\n",
    "if number < 0:\n",
    "    print(\"Enter the number greater than 0\")\n",
    "else:   \n",
    "    res = factorial_num(number)\n",
    "             \n",
    "    print(\"Factorial of {} is {}\".format(number, res))"
   ]
  },
  {
   "cell_type": "markdown",
   "id": "0357b86f",
   "metadata": {},
   "source": [
    "### 3. Write a Python Program to calculate your Body Mass Index?"
   ]
  },
  {
   "cell_type": "code",
   "execution_count": 10,
   "id": "fcc9bc8d-7bcf-4c36-a730-6615b09e724e",
   "metadata": {},
   "outputs": [
    {
     "name": "stdin",
     "output_type": "stream",
     "text": [
      "Enter your weight in kg.:  70\n",
      "Enter your height in cm.:  164\n"
     ]
    },
    {
     "name": "stdout",
     "output_type": "stream",
     "text": [
      "Your Body Mass index is 26.03\n"
     ]
    }
   ],
   "source": [
    "# Body mass index = weight in kg / (height in meter) ** 2\n",
    "\n",
    "weight_kg = float(input(\"Enter your weight in kg.: \"))\n",
    "height_cm = float(input(\"Enter your height in cm.: \"))\n",
    "height_mtr = height_cm / 100\n",
    "\n",
    "if (weight_kg <= 0) or (height_mtr <= 0):\n",
    "    print(\"Enter positive number greater than 0.\")\n",
    "    \n",
    "else:\n",
    "    \n",
    "    bmi = weight_kg / (height_mtr ** 2)\n",
    "    \n",
    "    print(\"Your Body Mass index is {}\".format(round(bmi, 2))) \n"
   ]
  },
  {
   "cell_type": "markdown",
   "id": "96d344a4",
   "metadata": {},
   "source": [
    "### 4. Write a Python Program to calculate the natural logarithm of any number?"
   ]
  },
  {
   "cell_type": "code",
   "execution_count": 11,
   "id": "74d09da1-7e87-440d-883c-c8f6bf717b1d",
   "metadata": {},
   "outputs": [
    {
     "name": "stdin",
     "output_type": "stream",
     "text": [
      "Enter the number to find it's natural logarithm:  6\n"
     ]
    },
    {
     "name": "stdout",
     "output_type": "stream",
     "text": [
      "Natural logarithm of 6.0 is 1.791759469228055\n"
     ]
    }
   ],
   "source": [
    "# Natural log with base e\n",
    "\n",
    "import math\n",
    "\n",
    "num = float(input(\"Enter the number to find it's natural logarithm: \"))\n",
    "\n",
    "if num <= 0:\n",
    "    print(\"Enter positive number greater than 0\")\n",
    "    \n",
    "else:\n",
    "    \n",
    "    num_log = math.log(num)\n",
    "    \n",
    "    print(\"Natural logarithm of {} is {}\".format(num, num_log))"
   ]
  },
  {
   "cell_type": "markdown",
   "id": "11c0d92c",
   "metadata": {},
   "source": [
    "\n",
    "### 5. Write a Python Program for cube sum of first n natural numbers?\n"
   ]
  },
  {
   "cell_type": "code",
   "execution_count": 13,
   "id": "081b318c-9570-4f84-bd3b-41374f8f740f",
   "metadata": {},
   "outputs": [
    {
     "name": "stdin",
     "output_type": "stream",
     "text": [
      "Enter the number to find cube sum from 1 till that number:  6\n"
     ]
    },
    {
     "name": "stdout",
     "output_type": "stream",
     "text": [
      "Cube sum of first 6 natural numbers is 441.0\n"
     ]
    }
   ],
   "source": [
    "# Cube sum of first natural numbers formula is given as (n**2 * ((n + 1) ** 2)) / 4\n",
    "\n",
    "number = int(input(\"Enter the number to find cube sum from 1 till that number: \"))\n",
    "\n",
    "if number <= 0:\n",
    "    print(\"Natural numbers should be greater than 1\")\n",
    "    \n",
    "else:\n",
    "    res = (number ** 2) * ((number + 1) **2) / 4\n",
    "    \n",
    "    print(\"Cube sum of first {} natural numbers is {}\".format(number, res))"
   ]
  },
  {
   "cell_type": "code",
   "execution_count": null,
   "id": "b992faeb-8ed1-4a11-bd19-d501846d3760",
   "metadata": {},
   "outputs": [],
   "source": []
  }
 ],
 "metadata": {
  "kernelspec": {
   "display_name": "Python 3 (ipykernel)",
   "language": "python",
   "name": "python3"
  },
  "language_info": {
   "codemirror_mode": {
    "name": "ipython",
    "version": 3
   },
   "file_extension": ".py",
   "mimetype": "text/x-python",
   "name": "python",
   "nbconvert_exporter": "python",
   "pygments_lexer": "ipython3",
   "version": "3.10.6"
  }
 },
 "nbformat": 4,
 "nbformat_minor": 5
}
