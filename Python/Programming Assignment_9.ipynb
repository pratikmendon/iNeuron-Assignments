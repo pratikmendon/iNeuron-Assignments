{
 "cells": [
  {
   "cell_type": "markdown",
   "id": "47b9bb99",
   "metadata": {},
   "source": [
    "## Programming Assignment_9\n",
    "----------------"
   ]
  },
  {
   "cell_type": "markdown",
   "id": "c725f7a9",
   "metadata": {},
   "source": [
    "### 1. Write a Python program to check if the given number is a Disarium Number?"
   ]
  },
  {
   "cell_type": "code",
   "execution_count": 45,
   "id": "69a0d4d2-6a88-4e48-8915-bd1a49ad0c83",
   "metadata": {},
   "outputs": [
    {
     "name": "stdin",
     "output_type": "stream",
     "text": [
      "Enter the number greater than 0 :  135\n"
     ]
    },
    {
     "name": "stdout",
     "output_type": "stream",
     "text": [
      "135 is a Disarium number\n"
     ]
    }
   ],
   "source": [
    "# Disarium number e.g 135  = (1 ** 1) + (3 ** 2) + (5 ** 3) = 135\n",
    "\n",
    "number = int(input(\"Enter the number greater than 0 : \"))\n",
    "\n",
    "if number <= 0:\n",
    "    print(\"Enter the number greater than 0\")\n",
    "else:\n",
    "    len_count = 0\n",
    "    xnum = number\n",
    "    res = 0\n",
    "    \n",
    "    # Count number of digits\n",
    "    while xnum != 0:\n",
    "        xnum //= 10\n",
    "        len_count += 1\n",
    "        \n",
    "    xnum = number\n",
    "    # Digits powered with their respective postion and add up\n",
    "    for i in range(len_count, 0, -1):\n",
    "        temp = xnum % 10\n",
    "        res += temp ** i\n",
    "        xnum //= 10\n",
    "\n",
    "    if number == res:\n",
    "        print(\"{} is a Disarium number\".format(number))\n",
    "    else:\n",
    "        print(\"{} is not a Disarium number\".format(number))\n",
    "        \n",
    "             "
   ]
  },
  {
   "cell_type": "markdown",
   "id": "f0064401",
   "metadata": {},
   "source": [
    "### 2. Write a Python program to print all disarium numbers between 1 to 100?"
   ]
  },
  {
   "cell_type": "code",
   "execution_count": 44,
   "id": "b3681e5a-c44f-4c80-92ec-4e667b9264de",
   "metadata": {},
   "outputs": [
    {
     "name": "stdout",
     "output_type": "stream",
     "text": [
      "1\n",
      "2\n",
      "3\n",
      "4\n",
      "5\n",
      "6\n",
      "7\n",
      "8\n",
      "9\n",
      "89\n"
     ]
    }
   ],
   "source": [
    "# Disarium number e.g 135  = (1 ** 1) + (3 ** 2) + (5 ** 3) = 135\n",
    "\n",
    "# From range 1 to 100\n",
    "for num in range(1,101):\n",
    "    len_count = 0\n",
    "    xnum = num\n",
    "    res = 0\n",
    "    \n",
    "    # Count number of digits\n",
    "    while xnum != 0:\n",
    "        xnum //= 10\n",
    "        len_count += 1\n",
    "        \n",
    "    xnum = num\n",
    "    \n",
    "    # Digits powered with their respective postion and add up\n",
    "    for i in range(len_count, 0, -1):\n",
    "        temp = xnum % 10\n",
    "        res += temp ** i\n",
    "        xnum //= 10\n",
    "\n",
    "    if num == res:\n",
    "        print(num)\n",
    "\n",
    "        \n",
    "             "
   ]
  },
  {
   "cell_type": "markdown",
   "id": "31df1e4a",
   "metadata": {},
   "source": [
    "### 3. Write a Python program to check if the given number is Happy Number?"
   ]
  },
  {
   "cell_type": "code",
   "execution_count": 43,
   "id": "df9cb06c-0b61-43ec-a409-e229794568db",
   "metadata": {},
   "outputs": [
    {
     "name": "stdin",
     "output_type": "stream",
     "text": [
      "Enter the number greater than 0 :  97\n"
     ]
    },
    {
     "name": "stdout",
     "output_type": "stream",
     "text": [
      "97 is a Happy number\n"
     ]
    }
   ],
   "source": [
    "# Happy number : 94 => 9^2 + 4^2 = 97 => 9^2 + 7^2 = 130 => 1^2 + 3^2 + 0^2 = 10 => 1^2 + 0^2 = 1\n",
    "# Sum of the square of its digits should be done until it reaches 1 to qualify for Happy number\n",
    "\n",
    "number = int(input(\"Enter the number greater than 0 : \"))\n",
    "\n",
    "if number <= 0:\n",
    "    print(\"Enter the number greater than 0\")\n",
    "else:\n",
    "    list_num = []\n",
    "    xnum = number\n",
    "    \n",
    "    # Sum of the square of the digits\n",
    "    while xnum != 1:\n",
    "        xnum = sum(int(i) ** 2 for i in str(xnum))\n",
    "        \n",
    "        # check in list if  number is already repeated after adding the digits\n",
    "        if xnum in list_num:\n",
    "            break\n",
    "        list_num.append(xnum)\n",
    "        \n",
    "    if xnum == 1:\n",
    "        print(\"{} is a Happy number\".format(number))\n",
    "    else:\n",
    "        print(\"{} is not a Happy number\".format(number))\n",
    "\n",
    "        "
   ]
  },
  {
   "cell_type": "markdown",
   "id": "51b265e3",
   "metadata": {},
   "source": [
    "### 4. Write a Python program to print all happy numbers between 1 and 100?"
   ]
  },
  {
   "cell_type": "code",
   "execution_count": 41,
   "id": "2d4a1088-107f-4579-be0c-f99ad222b394",
   "metadata": {},
   "outputs": [
    {
     "name": "stdout",
     "output_type": "stream",
     "text": [
      "1\n",
      "7\n",
      "10\n",
      "13\n",
      "19\n",
      "23\n",
      "28\n",
      "31\n",
      "32\n",
      "44\n",
      "49\n",
      "68\n",
      "70\n",
      "79\n",
      "82\n",
      "86\n",
      "91\n",
      "94\n",
      "97\n",
      "100\n"
     ]
    }
   ],
   "source": [
    "# Happy number : 94 => 9^2 + 4^2 = 97 => 9^2 + 7^2 = 130 => 1^2 + 3^2 + 0^2 = 10 => 1^2 + 0^2 = 1\n",
    "# Sum of the square of its digits should be done until it reaches 1 to qualify for Happy number\n",
    "\n",
    "for num in range(1,101):\n",
    "    list_num = []\n",
    "    xnum = num\n",
    "    \n",
    "    # Sum of the square of the digits\n",
    "    while xnum != 1:\n",
    "        xnum = sum(int(i) ** 2 for i in str(xnum))\n",
    "        \n",
    "        # check in list if  number is already repeated after adding the digits\n",
    "        if xnum in list_num:\n",
    "            break\n",
    "        list_num.append(xnum)\n",
    "        \n",
    "    if xnum == 1:\n",
    "        print(num)\n",
    "  "
   ]
  },
  {
   "cell_type": "markdown",
   "id": "6a190ee0",
   "metadata": {},
   "source": [
    "### 5. Write a Python program to determine whether the given number is a Harshad Number?"
   ]
  },
  {
   "cell_type": "code",
   "execution_count": 40,
   "id": "0ca897e5-d4f4-4dc5-8853-36470584282b",
   "metadata": {},
   "outputs": [
    {
     "name": "stdin",
     "output_type": "stream",
     "text": [
      "Enter the number greater than 0 :  20\n"
     ]
    },
    {
     "name": "stdout",
     "output_type": "stream",
     "text": [
      "20 is a Harshad number\n"
     ]
    }
   ],
   "source": [
    "# Harshad number : if number is divisible by sum of its digits\n",
    "\n",
    "number = int(input(\"Enter the number greater than 0 : \"))\n",
    "\n",
    "if number <= 0:\n",
    "    print(\"Enter the number greater than 0\")\n",
    "    \n",
    "else:\n",
    "    \n",
    "    # Sum up the digits and divide the nunber\n",
    "    sum_digits = sum( int(i) for i in str(number))\n",
    "    if number % sum_digits == 0:\n",
    "        print(\"{} is a Harshad number\".format(number))\n",
    "    else:\n",
    "        print(\"{} is not a Harshad number\".format(number))\n",
    "    "
   ]
  },
  {
   "cell_type": "markdown",
   "id": "7a7ea92e",
   "metadata": {},
   "source": [
    "### 6. Write a Python program to print all pronic numbers between 1 and 100?"
   ]
  },
  {
   "cell_type": "code",
   "execution_count": 39,
   "id": "c2d3f1f6-b9fe-453c-acaa-55a086fdf8f0",
   "metadata": {},
   "outputs": [
    {
     "name": "stdout",
     "output_type": "stream",
     "text": [
      "6\n",
      "12\n",
      "20\n",
      "30\n",
      "42\n",
      "56\n",
      "72\n",
      "90\n"
     ]
    }
   ],
   "source": [
    "# Pronic number = if  number is the multiplication of 2 consecutive numbers\n",
    "# e.g. 2 * 3 = 6, 4 * 5 = 20,\n",
    "\n",
    "for number in range(1,101):\n",
    "    res = 0\n",
    "    for num in range(1, number // 2):\n",
    "        res =  num * (num + 1)\n",
    "        if res == number:\n",
    "            print(number)"
   ]
  },
  {
   "cell_type": "code",
   "execution_count": null,
   "id": "262bcf9d-5487-4bef-97e5-5b0f38fdecc1",
   "metadata": {},
   "outputs": [],
   "source": []
  }
 ],
 "metadata": {
  "kernelspec": {
   "display_name": "Python 3 (ipykernel)",
   "language": "python",
   "name": "python3"
  },
  "language_info": {
   "codemirror_mode": {
    "name": "ipython",
    "version": 3
   },
   "file_extension": ".py",
   "mimetype": "text/x-python",
   "name": "python",
   "nbconvert_exporter": "python",
   "pygments_lexer": "ipython3",
   "version": "3.10.6"
  }
 },
 "nbformat": 4,
 "nbformat_minor": 5
}
