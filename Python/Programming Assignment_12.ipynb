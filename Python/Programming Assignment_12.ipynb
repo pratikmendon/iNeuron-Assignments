{
 "cells": [
  {
   "cell_type": "markdown",
   "id": "b7231b20",
   "metadata": {},
   "source": [
    "# Python Basic Programming Assignment 12\n",
    "-------------"
   ]
  },
  {
   "cell_type": "markdown",
   "id": "d2ec324d",
   "metadata": {},
   "source": [
    "### 1. Write a Python program to Extract Unique values dictionary values?"
   ]
  },
  {
   "cell_type": "code",
   "execution_count": 60,
   "id": "9d592ec5-e612-4ec7-a051-cfaa5a799d79",
   "metadata": {},
   "outputs": [
    {
     "name": "stdout",
     "output_type": "stream",
     "text": [
      "Original dictionary is : {'A': array([16, 10,  3,  4, 16]), 'B': array([ 4, 19,  1, 17,  4, 19, 15,  9,  4, 16]), 'C': array([15, 13,  5]), 'D': array([ 7,  4, 14,  9,  6, 10])}\n",
      "The unique values from dictionary are: [1, 3, 4, 5, 6, 7, 9, 10, 13, 14, 15, 16, 17, 19]\n"
     ]
    }
   ],
   "source": [
    "import numpy as np\n",
    "\n",
    "dict_input = {'A': np.random.randint(1,20, 5),\n",
    "               'B': np.random.randint(1,20, 10),\n",
    "                'C': np.random.randint(1,20, 3),\n",
    "                 'D': np.random.randint(1,20, 6)}\n",
    "\n",
    "print(\"Original dictionary is : {}\".format(dict_input))\n",
    "\n",
    "# Create empty list add unique values from dictionary\n",
    "unique_list = []\n",
    "\n",
    "#Ectract unique values from dictionary\n",
    "for list_num in dict_input.values():\n",
    "    for num in list_num:\n",
    "        if num not in unique_list:\n",
    "            unique_list.append(num)\n",
    "\n",
    "# Sortb the list\n",
    "unique_list.sort()\n",
    "\n",
    "print(\"The unique values from dictionary are: {}\".format(unique_list))"
   ]
  },
  {
   "cell_type": "markdown",
   "id": "203bcbc3",
   "metadata": {},
   "source": [
    "### 2. Write a Python program to find the sum of all items in a dictionary?"
   ]
  },
  {
   "cell_type": "code",
   "execution_count": 61,
   "id": "a28c013f-1785-4f1c-a226-c19b75788fe9",
   "metadata": {},
   "outputs": [
    {
     "name": "stdout",
     "output_type": "stream",
     "text": [
      "Original dictionary is : {'A': 1, 'B': 3, 'C': 9, 'D': 9}\n",
      "Sum of values in dictionary is : 22\n"
     ]
    }
   ],
   "source": [
    "import numpy as np\n",
    "\n",
    "dict_input = {'A': np.random.randint(1,10),\n",
    "               'B': np.random.randint(1,10),\n",
    "                'C': np.random.randint(1,10),\n",
    "                 'D': np.random.randint(1,10)}\n",
    "\n",
    "print(\"Original dictionary is : {}\".format(dict_input))\n",
    "\n",
    "\n",
    "res_add = 0\n",
    "\n",
    "# Extract the values from dictionary and add up\n",
    "for num in dict_input.values():\n",
    "    res_add += num\n",
    "    \n",
    "print(\"Sum of values in dictionary is : {}\".format(res_add))\n"
   ]
  },
  {
   "cell_type": "markdown",
   "id": "edfbc682",
   "metadata": {},
   "source": [
    "### 3. Write a Python program to Merging two Dictionaries?"
   ]
  },
  {
   "cell_type": "code",
   "execution_count": 62,
   "id": "e92c79f6-e989-4f59-8afb-ece4b700a231",
   "metadata": {},
   "outputs": [
    {
     "name": "stdout",
     "output_type": "stream",
     "text": [
      "Dictionary 1 : {'A': 6, 'B': 7, 'C': 3, 'D': 1}\n",
      "Dictionary 2 : {'E': 4, 'F': 4, 'G': 8, 'H': 8}\n",
      "After merging both dictionaries : {'A': 6, 'B': 7, 'C': 3, 'D': 1, 'E': 4, 'F': 4, 'G': 8, 'H': 8}\n"
     ]
    }
   ],
   "source": [
    "dict1 = {'A': np.random.randint(1,10),\n",
    "               'B': np.random.randint(1,10),\n",
    "                'C': np.random.randint(1,10),\n",
    "                 'D': np.random.randint(1,10)}\n",
    "\n",
    "dict2 = {'E': np.random.randint(1,10),\n",
    "               'F': np.random.randint(1,10),\n",
    "                'G': np.random.randint(1,10),\n",
    "                 'H': np.random.randint(1,10)}\n",
    "\n",
    "print(\"Dictionary 1 : {}\".format(dict1))\n",
    "print(\"Dictionary 2 : {}\".format(dict2))\n",
    "\n",
    "# Merge both fictionaries using Or opeartor '|'\n",
    "dict3 = dict1 | dict2\n",
    "\n",
    "print(\"After merging both dictionaries : {}\".format(dict3))"
   ]
  },
  {
   "cell_type": "markdown",
   "id": "62eaf687",
   "metadata": {},
   "source": [
    "### 4. Write a Python program to convert key-values list to flat dictionary?"
   ]
  },
  {
   "cell_type": "code",
   "execution_count": 63,
   "id": "3ed0f338-6843-4337-8897-70520ab968af",
   "metadata": {},
   "outputs": [
    {
     "name": "stdout",
     "output_type": "stream",
     "text": [
      "Original dictionary : {'names': ['a', 'b', 'c', 'd'], 'numbers': array([8, 5, 9, 2])}\n",
      "Flat dictionary is: {'a': 8, 'b': 5, 'c': 9, 'd': 2}\n"
     ]
    }
   ],
   "source": [
    "dict_input = {'names' : ['a', 'b', 'c', 'd'], 'numbers' : np.random.randint(1,10,4)}\n",
    "\n",
    "print(\"Original dictionary : {}\".format(dict_input))\n",
    "\n",
    "# Get list of values from dictionary, zip them and convert into dictionary. Length of both list of values should be same\n",
    "flat_dict = dict(zip(dict_input['names'], dict_input['numbers']))\n",
    "\n",
    "print(\"Flat dictionary is: {}\".format(flat_dict))"
   ]
  },
  {
   "cell_type": "markdown",
   "id": "fcc5015f",
   "metadata": {},
   "source": [
    "### 5. Write a Python program to insertion at the beginning in OrderedDict?"
   ]
  },
  {
   "cell_type": "code",
   "execution_count": 29,
   "id": "90fd8251-612e-4758-838c-fea0c8e917a1",
   "metadata": {},
   "outputs": [
    {
     "name": "stdout",
     "output_type": "stream",
     "text": [
      "Original dictionary: OrderedDict([('a', 1), ('b', 2), ('c', 3)])\n",
      "Dictionary to be added: OrderedDict([('d', 4)])\n",
      "Final Dictionary : OrderedDict([('d', 4), ('a', 1), ('b', 2), ('c', 3)])\n"
     ]
    }
   ],
   "source": [
    "# import OrderedDict \n",
    "from collections import OrderedDict\n",
    "\n",
    "dict1 = OrderedDict([('a', 1), ('b', 2), ('c', 3)])\n",
    "dict2 = OrderedDict([('d', 4)])\n",
    "\n",
    "print(\"Original dictionary: {}\".format(dict1))\n",
    "print(\"Dictionary to be added: {}\".format(dict2))\n",
    "\n",
    "res_dict = OrderedDict(list(dict2.items()) + list(dict1.items()))\n",
    "\n",
    "print(\"Final Dictionary : {}\".format(res_dict))"
   ]
  },
  {
   "cell_type": "markdown",
   "id": "5978c9ab",
   "metadata": {},
   "source": [
    "### 6. Write a Python program to check order of character in string using OrderedDict()?"
   ]
  },
  {
   "cell_type": "code",
   "execution_count": 45,
   "id": "e87df7a8-573c-4abe-8f56-4dd1734e89f6",
   "metadata": {},
   "outputs": [
    {
     "name": "stdout",
     "output_type": "stream",
     "text": [
      "Pattern 'ic' is present in string 'Data Analytics'\n"
     ]
    }
   ],
   "source": [
    "# import OrderedDict\n",
    "from collections import OrderedDict\n",
    "\n",
    "input_str = 'Data Analytics'\n",
    "pattern = 'ic'\n",
    "\n",
    "# Use every unique letter in input_str as keys. Values will be None for those keys\n",
    "dict_input = OrderedDict.fromkeys(input_str)\n",
    "\n",
    "flag = False\n",
    "\n",
    "len_ptrn = 0\n",
    "\n",
    "# For every matching keys from dict_input and pattern string, increase the len_ptrn count\n",
    "for key, value in dict_input.items():\n",
    "    if key == pattern[len_ptrn]:\n",
    "        len_ptrn += 1\n",
    "        \n",
    "    # if len_ptrn count and length of pattern is matching, break out of loop\n",
    "    if len(pattern) == len_ptrn:\n",
    "        flag = True\n",
    "        break\n",
    "        \n",
    "if flag:\n",
    "    print(\"Pattern '{}' is present in string '{}'\".format(pattern, input_str))\n",
    "    \n",
    "else:\n",
    "    print(\"Pattern '{}' is not present in string '{}'\".format(pattern, input_str))"
   ]
  },
  {
   "cell_type": "markdown",
   "id": "f330da77",
   "metadata": {},
   "source": [
    "### 7. Write a Python program to sort Python Dictionaries by Key or Value?"
   ]
  },
  {
   "cell_type": "code",
   "execution_count": 72,
   "id": "b14bd014-19c9-45e5-acae-b71fc35c2d2f",
   "metadata": {},
   "outputs": [
    {
     "name": "stdout",
     "output_type": "stream",
     "text": [
      "Original dictionary : {'d': 1, 'b': 3, 'a': 4, 'c': 7}\n",
      "Final dictionary after sorting by keys: {'a': 4, 'b': 3, 'c': 7, 'd': 1}\n",
      "Final dictionary after sorting by values: {'d': 1, 'b': 3, 'a': 4, 'c': 7}\n"
     ]
    }
   ],
   "source": [
    "dict1 = {'d': np.random.randint(1,10),\n",
    "               'b': np.random.randint(1,10),\n",
    "                'a': np.random.randint(1,10),\n",
    "                 'c': np.random.randint(1,10)}\n",
    "\n",
    "# Get copy of original dictionary\n",
    "dict2 = dict1.copy()\n",
    "print(\"Original dictionary : {}\".format(dict1))\n",
    "\n",
    "# Sort dictionary by keys\n",
    "dict_by_keys = {keys : dict1[keys] for keys in sorted(dict1)}\n",
    "print(\"Final dictionary after sorting by keys: {}\".format(dict_by_keys))\n",
    "\n",
    "# Store keys and values from original dictionary\n",
    "keys_dict = list(dict2.keys())\n",
    "values_dict = list(dict2.values())\n",
    "\n",
    "# Get indices of values from values_dict\n",
    "indices = np.argsort(values_dict)\n",
    "\n",
    "# Sort dictionary by values using indices\n",
    "dict_by_values = {keys_dict[ids] : values_dict[ids] for ids in indices}\n",
    "\n",
    "print(\"Final dictionary after sorting by values: {}\".format(dict_by_values))"
   ]
  },
  {
   "cell_type": "code",
   "execution_count": null,
   "id": "7dce6821-80dc-4153-8604-498381f837ab",
   "metadata": {},
   "outputs": [],
   "source": []
  }
 ],
 "metadata": {
  "kernelspec": {
   "display_name": "Python 3 (ipykernel)",
   "language": "python",
   "name": "python3"
  },
  "language_info": {
   "codemirror_mode": {
    "name": "ipython",
    "version": 3
   },
   "file_extension": ".py",
   "mimetype": "text/x-python",
   "name": "python",
   "nbconvert_exporter": "python",
   "pygments_lexer": "ipython3",
   "version": "3.10.6"
  }
 },
 "nbformat": 4,
 "nbformat_minor": 5
}
