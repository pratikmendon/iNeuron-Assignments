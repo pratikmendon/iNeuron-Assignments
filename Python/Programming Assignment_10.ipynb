{
 "cells": [
  {
   "cell_type": "markdown",
   "id": "3dcb940f",
   "metadata": {},
   "source": [
    "## Python Basic Programming Assignment 10"
   ]
  },
  {
   "cell_type": "markdown",
   "id": "6720790a",
   "metadata": {},
   "source": [
    "### 1. Write a Python program to find sum of elements in list?"
   ]
  },
  {
   "cell_type": "code",
   "execution_count": 25,
   "id": "2dc7dba4-9c71-4683-be5d-3d66c4a25b8f",
   "metadata": {},
   "outputs": [
    {
     "name": "stdin",
     "output_type": "stream",
     "text": [
      "Enter the number of  elements to be added up:  6\n"
     ]
    },
    {
     "name": "stdout",
     "output_type": "stream",
     "text": [
      "Sum of elements in list [43, 8, 57, 84, 55, 31] is 278\n"
     ]
    }
   ],
   "source": [
    "import numpy as np\n",
    "\n",
    "size_list = int(input(\"Enter the number of  elements to be added up: \"))\n",
    "\n",
    "if size_list <= 0:\n",
    "    print(\"Enter the element size greater than 0\")\n",
    "    \n",
    "else:\n",
    "    \n",
    "    res = 0\n",
    "    list_num= list(np.random.randint(1,100,size=size_list))\n",
    "    \n",
    "    # Iterate through every elements in list and add up\n",
    "    for num in list_num:\n",
    "        res += num\n",
    "        \n",
    "    print(\"Sum of elements in list {} is {}\".format(list_num, res))\n"
   ]
  },
  {
   "cell_type": "markdown",
   "id": "fe1137c3",
   "metadata": {},
   "source": [
    "### 2. Write a Python program to  Multiply all numbers in the list?"
   ]
  },
  {
   "cell_type": "code",
   "execution_count": 26,
   "id": "435f4b3d-36eb-44bd-9857-db87c2d73dd8",
   "metadata": {},
   "outputs": [
    {
     "name": "stdin",
     "output_type": "stream",
     "text": [
      "Enter the number of  elements to be multiplied up:  3\n"
     ]
    },
    {
     "name": "stdout",
     "output_type": "stream",
     "text": [
      "Multiplication of elements in list [70, 31, 6] is 13020\n"
     ]
    }
   ],
   "source": [
    "import numpy as np\n",
    "\n",
    "size_list = int(input(\"Enter the number of  elements to be multiplied up: \"))\n",
    "\n",
    "if size_list <= 0:\n",
    "    print(\"Enter the element size greater than 0\")\n",
    "    \n",
    "else:\n",
    "    \n",
    "    res = 1\n",
    "    list_num= list(np.random.randint(1,100,size=size_list))\n",
    "    \n",
    "    # Iterate through every elements in list and multiply \n",
    "    for num in list_num:\n",
    "        res *= num\n",
    "        \n",
    "        \n",
    "    print(\"Multiplication of elements in list {} is {}\".format(list_num, res))\n"
   ]
  },
  {
   "cell_type": "markdown",
   "id": "078681db",
   "metadata": {},
   "source": [
    "### 3. Write a Python program to find smallest number in a list?"
   ]
  },
  {
   "cell_type": "code",
   "execution_count": 27,
   "id": "4a3bd076-a51a-4197-b125-63da85519fcd",
   "metadata": {},
   "outputs": [
    {
     "name": "stdin",
     "output_type": "stream",
     "text": [
      "Enter the number of  elements:  10\n"
     ]
    },
    {
     "name": "stdout",
     "output_type": "stream",
     "text": [
      "Elements in list are : [19, 55, 98, 74, 38, 1, 63, 67, 57, 70]\n",
      "Smallest number in the list is 1\n"
     ]
    }
   ],
   "source": [
    "import numpy as np\n",
    "\n",
    "size_list = int(input(\"Enter the number of  elements: \"))\n",
    "\n",
    "if size_list <= 0:\n",
    "    print(\"Enter the element size greater than 0\")\n",
    "    \n",
    "else:\n",
    "    \n",
    "    list_num= list(np.random.randint(1,100,size=size_list))\n",
    "    print(\"Elements in list are : {}\".format(list_num))\n",
    "    \n",
    "    # Take first element in list as reference and start comparing\n",
    "    flag = list_num[0]\n",
    "    \n",
    "    for i in range(1, len(list_num)):\n",
    "        if flag >= list_num[i]:\n",
    "            flag = list_num[i]\n",
    "            \n",
    "    print(\"Smallest number in the list is {}\".format(flag))"
   ]
  },
  {
   "cell_type": "markdown",
   "id": "12b04397",
   "metadata": {},
   "source": [
    "### 4. Write a Python program to find largest number in a list?"
   ]
  },
  {
   "cell_type": "code",
   "execution_count": 28,
   "id": "ccfa6889-2255-4a54-8575-6bc7480d29a4",
   "metadata": {},
   "outputs": [
    {
     "name": "stdin",
     "output_type": "stream",
     "text": [
      "Enter the number of  elements:  10\n"
     ]
    },
    {
     "name": "stdout",
     "output_type": "stream",
     "text": [
      "Elements in list are : [79, 41, 8, 10, 84, 78, 45, 54, 38, 61]\n",
      "Largest number in the list is 84\n"
     ]
    }
   ],
   "source": [
    "import numpy as np\n",
    "\n",
    "size_list = int(input(\"Enter the number of  elements: \"))\n",
    "\n",
    "if size_list <= 0:\n",
    "    print(\"Enter the element size greater than 0\")\n",
    "    \n",
    "else:\n",
    "    \n",
    "    list_num= list(np.random.randint(1,100,size=size_list))\n",
    "    print(\"Elements in list are : {}\".format(list_num))\n",
    "    \n",
    "    # Take first element in list as reference and start comparing\n",
    "    flag = list_num[0]\n",
    "    \n",
    "    for i in range(1, len(list_num)):\n",
    "        if flag <= list_num[i]:\n",
    "            flag = list_num[i]\n",
    "            \n",
    "    print(\"Largest number in the list is {}\".format(flag))"
   ]
  },
  {
   "cell_type": "markdown",
   "id": "86442b51",
   "metadata": {},
   "source": [
    "### 5. Write a Python program to find second largest number in a list?"
   ]
  },
  {
   "cell_type": "code",
   "execution_count": 30,
   "id": "37bad17e-0c23-4d07-b4e2-5bdde490002f",
   "metadata": {},
   "outputs": [
    {
     "name": "stdin",
     "output_type": "stream",
     "text": [
      "Enter the number of  elements:  10\n"
     ]
    },
    {
     "name": "stdout",
     "output_type": "stream",
     "text": [
      "Elements in list are : [58, 92, 59, 42, 57, 63, 4, 78, 70, 30]\n",
      "Second largest number in the list is 78\n"
     ]
    }
   ],
   "source": [
    "import numpy as np\n",
    "\n",
    "size_list = int(input(\"Enter the number of  elements: \"))\n",
    "\n",
    "if size_list <= 1:\n",
    "    print(\"Enter the element size greater than 1\")\n",
    "\n",
    "else:\n",
    "    \n",
    "    list_num= list(np.random.randint(1,100,size=size_list))\n",
    "    print(\"Elements in list are : {}\".format(list_num))\n",
    "    \n",
    "    # Sort the list and get second largest element from end\n",
    "    list_num.sort()\n",
    "\n",
    "    \n",
    "    second_largest = list_num[-2]\n",
    "    \n",
    "    print(\"Second largest number in the list is {}\".format(second_largest))"
   ]
  },
  {
   "cell_type": "markdown",
   "id": "10964d7d",
   "metadata": {},
   "source": [
    "### 6. Write a Python program to find N largest elements from a list?"
   ]
  },
  {
   "cell_type": "code",
   "execution_count": 35,
   "id": "48477c47-5aad-4e8e-95fa-1646c425967d",
   "metadata": {},
   "outputs": [
    {
     "name": "stdin",
     "output_type": "stream",
     "text": [
      "Enter the number of  elements:  10\n",
      "Enter the number to find the N largest number in list:  3\n"
     ]
    },
    {
     "name": "stdout",
     "output_type": "stream",
     "text": [
      "Elements in list are : [32, 59, 69, 46, 69, 61, 31, 72, 98, 80]\n",
      "3 largest number in the list is [98, 80, 72]\n"
     ]
    }
   ],
   "source": [
    "import numpy as np\n",
    "\n",
    "size_list = int(input(\"Enter the number of  elements: \"))\n",
    "\n",
    "if size_list <= 1:\n",
    "    print(\"Enter the element size greater than 1\")\n",
    "    \n",
    "else:\n",
    "    \n",
    "    n_largest = int(input(\"Enter the number to find the N largest number in list: \"))\n",
    "    \n",
    "    if n_largest > size_list:\n",
    "        print(\"Nth number is out of bound. Enter the number that should be within list size\")\n",
    "\n",
    "    else:\n",
    "    \n",
    "        list_num= list(np.random.randint(1,100,size=size_list))\n",
    "        print(\"Elements in list are : {}\".format(list_num))\n",
    "        \n",
    "        # Sort the list in reverse and get n largest numbers\n",
    "        list_num.sort(reverse=True)\n",
    "\n",
    "        largest = list_num[:n_largest]\n",
    "\n",
    "        print(\"{} largest number in the list is {}\".format(n_largest, largest))"
   ]
  },
  {
   "cell_type": "markdown",
   "id": "2f1a1e98",
   "metadata": {},
   "source": [
    "### 7. Write a Python program to print even numbers in a list?"
   ]
  },
  {
   "cell_type": "code",
   "execution_count": 36,
   "id": "0d0f2d08-47a7-4c58-899d-992a616d7fe8",
   "metadata": {},
   "outputs": [
    {
     "name": "stdin",
     "output_type": "stream",
     "text": [
      "Enter the number of  elements :  10\n"
     ]
    },
    {
     "name": "stdout",
     "output_type": "stream",
     "text": [
      "List of elemnts : [77, 42, 97, 1, 87, 94, 28, 93, 78, 92]\n",
      "Even numbers are:\n",
      "42\n",
      "94\n",
      "28\n",
      "78\n",
      "92\n"
     ]
    }
   ],
   "source": [
    "import numpy as np\n",
    "\n",
    "size_list = int(input(\"Enter the number of  elements : \"))\n",
    "\n",
    "if size_list <= 0:\n",
    "    print(\"Enter the element size greater than 0\")\n",
    "    \n",
    "else:\n",
    "    \n",
    "    list_num= list(np.random.randint(1,100,size=size_list))\n",
    "    print(\"List of elemnts : {}\".format(list_num))\n",
    "    \n",
    "    print(\"Even numbers are:\")\n",
    "    \n",
    "    # Even numbers divisble by 2 gives remainder 0\n",
    "    for num in list_num:\n",
    "        if num % 2 == 0:\n",
    "            print(num)\n",
    "        \n",
    "   "
   ]
  },
  {
   "cell_type": "markdown",
   "id": "989bb324",
   "metadata": {},
   "source": [
    "### 8. Write a Python program to print odd numbers in a List?"
   ]
  },
  {
   "cell_type": "code",
   "execution_count": 39,
   "id": "7d8b0580-94bc-4ead-803c-0a27000053ed",
   "metadata": {},
   "outputs": [
    {
     "name": "stdin",
     "output_type": "stream",
     "text": [
      "Enter the number of  elements :  10\n"
     ]
    },
    {
     "name": "stdout",
     "output_type": "stream",
     "text": [
      "List of elemnts : [56, 71, 97, 93, 82, 55, 24, 76, 31, 10]\n",
      "Odd numbers are:\n",
      "71\n",
      "97\n",
      "93\n",
      "55\n",
      "31\n"
     ]
    }
   ],
   "source": [
    "import numpy as np\n",
    "\n",
    "size_list = int(input(\"Enter the number of  elements : \"))\n",
    "\n",
    "if size_list <= 0:\n",
    "    print(\"Enter the element size greater than 0\")\n",
    "    \n",
    "else:\n",
    "    \n",
    "    list_num= list(np.random.randint(1,100,size=size_list))\n",
    "    print(\"List of elemnts : {}\".format(list_num))\n",
    "    \n",
    "    print(\"Odd numbers are:\")\n",
    "    \n",
    "    # Odd numbers divisible by 2 gives remainder as 1\n",
    "    for num in list_num:\n",
    "        if num % 2 != 0:\n",
    "            print(num)\n",
    "        \n",
    "   "
   ]
  },
  {
   "cell_type": "markdown",
   "id": "185b7b13",
   "metadata": {},
   "source": [
    "### 9. Write a Python program to Remove empty List from List?"
   ]
  },
  {
   "cell_type": "code",
   "execution_count": 24,
   "id": "9dae89ba-5909-4ec2-a96a-46df45bebbbc",
   "metadata": {},
   "outputs": [
    {
     "name": "stdout",
     "output_type": "stream",
     "text": [
      "Original list : [5, 9, [], 8, 2, [], 1, []]\n",
      "After deleting empy list: [5, 9, 8, 2, 1]\n"
     ]
    }
   ],
   "source": [
    "num_list = [5, 9, [], 8, 2, [], 1, []]\n",
    "\n",
    "print(\"Original list : {}\".format(num_list))\n",
    "res_list = []\n",
    "\n",
    "# Extract non empty elements and append to new list\n",
    "for x in range(len(num_list)):\n",
    "        if num_list[x] != []:\n",
    "            res_list.append(num_list[x])\n",
    "        \n",
    "print(\"After deleting empy list: {}\".format(res_list))\n"
   ]
  },
  {
   "cell_type": "markdown",
   "id": "278cfacc",
   "metadata": {},
   "source": [
    "### 10. Write a Python program to Cloning or Copying a list?"
   ]
  },
  {
   "cell_type": "code",
   "execution_count": 40,
   "id": "be30415a-4a79-4640-bef9-62d931eb39f2",
   "metadata": {},
   "outputs": [
    {
     "name": "stdin",
     "output_type": "stream",
     "text": [
      "Enter the number of  elements:  10\n"
     ]
    },
    {
     "name": "stdout",
     "output_type": "stream",
     "text": [
      "Elements in list before cloning : [62, 48, 18, 39, 57, 30, 4, 46, 86, 85]\n",
      "Elements in list after cloning : [62, 48, 18, 39, 57, 30, 4, 46, 86, 85]\n"
     ]
    }
   ],
   "source": [
    "import numpy as np\n",
    "\n",
    "size_list = int(input(\"Enter the number of  elements: \"))\n",
    "\n",
    "if size_list <= 1:\n",
    "    print(\"Enter the element size greater than 1\")\n",
    "\n",
    "else:\n",
    "    \n",
    "    list_num= list(np.random.randint(1,100,size=size_list))\n",
    "    print(\"Elements in list before cloning : {}\".format(list_num))\n",
    "    \n",
    "    list_num_copy = []\n",
    "    \n",
    "    # Iterate through every elements in num_list and append to other list\n",
    "    \n",
    "    for num in list_num:\n",
    "        list_num_copy.append(num)\n",
    "        \n",
    "    print(\"Elements in list after cloning : {}\".format(list_num_copy))\n",
    "    "
   ]
  },
  {
   "cell_type": "markdown",
   "id": "b359bedf",
   "metadata": {},
   "source": [
    "### 11. Write a Python program to Count occurrences of an element in a list?"
   ]
  },
  {
   "cell_type": "code",
   "execution_count": 22,
   "id": "3cbc82c8-257d-4412-b48e-f6901596ec47",
   "metadata": {},
   "outputs": [
    {
     "name": "stdin",
     "output_type": "stream",
     "text": [
      "Enter the number of  elements:  15\n"
     ]
    },
    {
     "name": "stdout",
     "output_type": "stream",
     "text": [
      "Elements in list are : [6, 15, 4, 6, 14, 18, 17, 13, 11, 1, 9, 13, 8, 15, 12]\n"
     ]
    },
    {
     "name": "stdin",
     "output_type": "stream",
     "text": [
      "Enter the number to be counted:  6\n"
     ]
    },
    {
     "name": "stdout",
     "output_type": "stream",
     "text": [
      "Element 6 is repeated 2 times in the list\n"
     ]
    }
   ],
   "source": [
    "import numpy as np\n",
    "\n",
    "size_list = int(input(\"Enter the number of  elements: \"))\n",
    "\n",
    "if size_list <= 1:\n",
    "    print(\"Enter the element size greater than 1\")\n",
    "\n",
    "else:\n",
    "    \n",
    "    list_num= list(np.random.randint(1,20,size=size_list))\n",
    "    print(\"Elements in list are : {}\".format(list_num))\n",
    "    \n",
    "    num = int(input(\"Enter the number to be counted: \"))\n",
    "    \n",
    "    count = 0\n",
    "    \n",
    "    # Iterate through every element in list and increase the count for every matching element\n",
    "    for i in list_num:\n",
    "        if num == i:\n",
    "            count += 1\n",
    "            \n",
    "    print(\"Element {} is repeated {} times in the list\".format(num, count))"
   ]
  },
  {
   "cell_type": "code",
   "execution_count": null,
   "id": "96bf62ce-bd9e-4035-a51d-2bd2bf87d3d7",
   "metadata": {},
   "outputs": [],
   "source": []
  }
 ],
 "metadata": {
  "kernelspec": {
   "display_name": "Python 3 (ipykernel)",
   "language": "python",
   "name": "python3"
  },
  "language_info": {
   "codemirror_mode": {
    "name": "ipython",
    "version": 3
   },
   "file_extension": ".py",
   "mimetype": "text/x-python",
   "name": "python",
   "nbconvert_exporter": "python",
   "pygments_lexer": "ipython3",
   "version": "3.10.6"
  }
 },
 "nbformat": 4,
 "nbformat_minor": 5
}
