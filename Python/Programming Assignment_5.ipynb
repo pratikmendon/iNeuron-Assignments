{
 "cells": [
  {
   "cell_type": "markdown",
   "id": "4ac9602a",
   "metadata": {},
   "source": [
    "## Python Basic Programming Assignment - 5\n",
    "--------------\n"
   ]
  },
  {
   "cell_type": "markdown",
   "id": "fdaeee06",
   "metadata": {},
   "source": [
    "### 1. Write a Python Program to Find LCM?"
   ]
  },
  {
   "cell_type": "code",
   "execution_count": 6,
   "id": "b704ee54-6f7b-4b09-873f-c0e5bcdd757c",
   "metadata": {},
   "outputs": [
    {
     "name": "stdin",
     "output_type": "stream",
     "text": [
      "Enter the first number :  32\n",
      "Enter the second number :  28\n"
     ]
    },
    {
     "name": "stdout",
     "output_type": "stream",
     "text": [
      "LCM of 32 and 28 is 224.\n"
     ]
    }
   ],
   "source": [
    "num1 = int(input(\"Enter the first number : \"))\n",
    "num2 = int(input(\"Enter the second number : \"))\n",
    "\n",
    "if  (num1 <= 0) or (num2 <= 0):\n",
    "    print(\"Enter the number greater than 0\")\n",
    "    \n",
    "else:\n",
    "    # Find greatest of two numbers\n",
    "    if num1 > num2:\n",
    "        greater = num1\n",
    "    else:\n",
    "        greater = num2\n",
    "        \n",
    "    while(True):\n",
    "        # increase the greater number to find the common multiple\n",
    "        if (greater % num1 == 0) and (greater % num2 == 0):\n",
    "            lcm = greater\n",
    "            break\n",
    "        else:\n",
    "            greater += 1\n",
    "            \n",
    "    print(\"LCM of {} and {} is {}.\".format(num1, num2, greater))"
   ]
  },
  {
   "cell_type": "markdown",
   "id": "2f459cdf",
   "metadata": {},
   "source": [
    "### 2. Write a Python Program to Find HCF?"
   ]
  },
  {
   "cell_type": "code",
   "execution_count": 13,
   "id": "ddeb7a99-e8d9-4b07-b686-18d650c37210",
   "metadata": {},
   "outputs": [
    {
     "name": "stdin",
     "output_type": "stream",
     "text": [
      "Enter the first number :  32\n",
      "Enter the second number :  28\n"
     ]
    },
    {
     "name": "stdout",
     "output_type": "stream",
     "text": [
      "HCF of 32 and 28 is 4.\n"
     ]
    }
   ],
   "source": [
    "num1 = int(input(\"Enter the first number : \"))\n",
    "num2 = int(input(\"Enter the second number : \"))\n",
    "\n",
    "if  (num1 <= 0) or (num2 <= 0):\n",
    "    print(\"Enter the number greater than 0\")\n",
    "    \n",
    "else:\n",
    "    # Find smallest of two numbers\n",
    "    if num1 < num2:\n",
    "        smaller = num1\n",
    "    else:\n",
    "        smaller = num2\n",
    "     \n",
    "    # Divide both numbers by smaller ranges to find common divisor\n",
    "    for num in range(1, smaller + 1):\n",
    "        if (num1 % num == 0) and (num2 % num == 0):\n",
    "            hcf = num\n",
    "                    \n",
    "            \n",
    "    print(\"HCF of {} and {} is {}.\".format(num1, num2, hcf))"
   ]
  },
  {
   "cell_type": "markdown",
   "id": "d2c29370",
   "metadata": {},
   "source": [
    "### 3. Write a Python Program to Convert Decimal to Binary, Octal and Hexadecimal?"
   ]
  },
  {
   "cell_type": "code",
   "execution_count": 27,
   "id": "8f5d5cd8-47e8-46a0-8af1-4ea836082dac",
   "metadata": {},
   "outputs": [
    {
     "name": "stdin",
     "output_type": "stream",
     "text": [
      "Enter the number:  10\n"
     ]
    },
    {
     "name": "stdout",
     "output_type": "stream",
     "text": [
      "Binary number of 10 is 1010\n",
      "Octal number of 10 is 12\n",
      "Hexadecimal number of 10 is A\n"
     ]
    }
   ],
   "source": [
    "num = int(input(\"Enter the number: \"))\n",
    "\n",
    "dec_to_binary = \"{0:b}\".format(num) # Decimal to binary\n",
    "dec_to_octal = \"{0:o}\".format(num) # Decimal to octal\n",
    "dec_to_hex = \"{0:X}\".format(num) # Decimal to hex\n",
    "\n",
    "print(\"Binary number of {} is {}\".format(num, dec_to_binary))\n",
    "print(\"Octal number of {} is {}\".format(num, dec_to_octal))\n",
    "print(\"Hexadecimal number of {} is {}\".format(num, dec_to_hex))"
   ]
  },
  {
   "cell_type": "markdown",
   "id": "2a16c5fd",
   "metadata": {},
   "source": [
    "### 4. Write a Python Program To Find ASCII value of a character?"
   ]
  },
  {
   "cell_type": "code",
   "execution_count": 47,
   "id": "53123f3f-7504-4ad3-8066-e1fbe801e014",
   "metadata": {},
   "outputs": [
    {
     "name": "stdin",
     "output_type": "stream",
     "text": [
      "Enter any alphabet/number/special character:  A\n"
     ]
    },
    {
     "name": "stdout",
     "output_type": "stream",
     "text": [
      "ASCII value of A is 65\n"
     ]
    }
   ],
   "source": [
    "character = input(\"Enter any alphabet/number/special character: \")\n",
    "\n",
    "if len(character) > 1:\n",
    "    print(\"Enter only one character\")\n",
    "\n",
    "else:\n",
    " \n",
    "    chr_to_ascii = ord(character)\n",
    "\n",
    "    print(\"ASCII value of {} is {}\".format(character, chr_to_ascii))"
   ]
  },
  {
   "cell_type": "markdown",
   "id": "226778a0",
   "metadata": {},
   "source": [
    "### 5. Write a Python Program to Make a Simple Calculator with 4 basic mathematical operations?"
   ]
  },
  {
   "cell_type": "code",
   "execution_count": 60,
   "id": "dd349a02-b093-445b-a45f-1e898a7156e5",
   "metadata": {},
   "outputs": [
    {
     "name": "stdin",
     "output_type": "stream",
     "text": [
      "Enter first number:  12\n",
      "Enter second number:  10\n"
     ]
    },
    {
     "name": "stdout",
     "output_type": "stream",
     "text": [
      "1. Addition\n",
      "2. Subtraction\n",
      "3. Multiplication\n",
      "4. Division\n"
     ]
    },
    {
     "name": "stdin",
     "output_type": "stream",
     "text": [
      "Enter choice of calculation from above 1/2/3/4:  1\n"
     ]
    },
    {
     "name": "stdout",
     "output_type": "stream",
     "text": [
      "Addition of 12.0 and 10.0 is 22.0.\n"
     ]
    }
   ],
   "source": [
    "num1 = float(input(\"Enter first number: \"))\n",
    "num2 = float(input(\"Enter second number: \"))\n",
    "\n",
    "print(\"1. Addition\")\n",
    "print(\"2. Subtraction\")\n",
    "print(\"3. Multiplication\")\n",
    "print(\"4. Division\")\n",
    "\n",
    "choice = int(input(\"Enter choice of calculation from above 1/2/3/4: \"))\n",
    "\n",
    "if choice == 1: #Addition\n",
    "    add_num = num1 + num2\n",
    "    print(\"Addition of {} and {} is {}.\".format(num1, num2, add_num))\n",
    "    \n",
    "elif choice == 2: # Subtraction\n",
    "    sub_num = num1 - num2\n",
    "    print(\"Subtraction of {} and {} is {}.\".format(num1, num2, sub_num))\n",
    "    \n",
    "elif choice == 3: # Multiplication\n",
    "    mul_num = num1 * num2\n",
    "    print(\"Multiplicatuon of {} and {} is {}.\".format(num1, num2, mul_num))\n",
    "    \n",
    "elif choice == 4: #Division\n",
    "    \n",
    "    if num2 == 0:\n",
    "        print(\"Division error. Cannot divide by zero\")\n",
    "    else:\n",
    "        div_num = num1 / num2\n",
    "        print(\"Division of {} and {} is {}.\".format(num1, num2, div_num))\n",
    "        \n",
    "else:\n",
    "    print(\"Incorrect choice.\")\n",
    "\n",
    "             "
   ]
  },
  {
   "cell_type": "code",
   "execution_count": null,
   "id": "5fe3efc3-9f3c-4f1f-9064-5bd69af13741",
   "metadata": {},
   "outputs": [],
   "source": []
  }
 ],
 "metadata": {
  "kernelspec": {
   "display_name": "Python 3 (ipykernel)",
   "language": "python",
   "name": "python3"
  },
  "language_info": {
   "codemirror_mode": {
    "name": "ipython",
    "version": 3
   },
   "file_extension": ".py",
   "mimetype": "text/x-python",
   "name": "python",
   "nbconvert_exporter": "python",
   "pygments_lexer": "ipython3",
   "version": "3.10.6"
  }
 },
 "nbformat": 4,
 "nbformat_minor": 5
}
