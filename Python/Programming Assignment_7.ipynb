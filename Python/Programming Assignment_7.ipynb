{
 "cells": [
  {
   "cell_type": "markdown",
   "id": "35297a20",
   "metadata": {},
   "source": [
    "## Programming Basic Assignment 7"
   ]
  },
  {
   "cell_type": "markdown",
   "id": "27349114",
   "metadata": {},
   "source": [
    "### 1. Write a Python Program to find sum of array?"
   ]
  },
  {
   "cell_type": "code",
   "execution_count": 71,
   "id": "e9ee8c27-ce5c-45d9-a533-d4fbf2eeeba9",
   "metadata": {},
   "outputs": [
    {
     "name": "stdin",
     "output_type": "stream",
     "text": [
      "Enter the length of the array:  6\n"
     ]
    },
    {
     "name": "stdout",
     "output_type": "stream",
     "text": [
      "[36 92 27 71  9 30]\n",
      "The sum of array [36 92 27 71  9 30] is 265\n"
     ]
    }
   ],
   "source": [
    "import numpy as np\n",
    "\n",
    "len_array = int(input(\"Enter the length of the array: \"))\n",
    "\n",
    "if len_array <= 0:\n",
    "    print(\"Enter the positive length greater than 0\")\n",
    "else:\n",
    "    \n",
    "    # Get random numbers between 1 and 100 of length defined by user\n",
    "    array_num = np.random.randint(1, 100, len_array) \n",
    "    print(array_num)\n",
    "    \n",
    "    sum_array = np.sum(array_num) # Sum all elements in array\n",
    "    print(\"The sum of array {} is {}\".format(array_num, sum_array))"
   ]
  },
  {
   "cell_type": "markdown",
   "id": "171a980d",
   "metadata": {},
   "source": [
    "### 2. Write a Python Program to find largest element in an array?\n"
   ]
  },
  {
   "cell_type": "code",
   "execution_count": 72,
   "id": "86d21f74-057c-4877-a4bd-d75720cd65f1",
   "metadata": {},
   "outputs": [
    {
     "name": "stdin",
     "output_type": "stream",
     "text": [
      "Enter the length of the array:  6\n"
     ]
    },
    {
     "name": "stdout",
     "output_type": "stream",
     "text": [
      "[27 56 65  7 57 14]\n",
      "The largest element of array [27 56 65  7 57 14] is 65\n"
     ]
    }
   ],
   "source": [
    "import numpy as np\n",
    "\n",
    "len_array = int(input(\"Enter the length of the array: \"))\n",
    "\n",
    "if len_array <= 0:\n",
    "    print(\"Enter the positive length greater than 0\")\n",
    "else:\n",
    "    \n",
    "    # Get random numbers between 1 and 100 of length defined by user\n",
    "    array_num = np.random.randint(1, 100, len_array) \n",
    "    print(array_num)\n",
    "    \n",
    "    max_array = np.max(array_num) # Get largest element from array\n",
    "\n",
    "    print(\"The largest element of array {} is {}\".format(array_num, max_array))"
   ]
  },
  {
   "cell_type": "markdown",
   "id": "21613246",
   "metadata": {},
   "source": [
    "### 3. Write a Python Program for array rotation?"
   ]
  },
  {
   "cell_type": "code",
   "execution_count": 73,
   "id": "53b5416c-4af1-414e-afb0-65b24b2f2c75",
   "metadata": {},
   "outputs": [
    {
     "name": "stdin",
     "output_type": "stream",
     "text": [
      "Enter the length of the array:  10\n",
      "Enter the number of rotations to be done in array:  3\n"
     ]
    },
    {
     "name": "stdout",
     "output_type": "stream",
     "text": [
      "Before rotation: [9, 12, 69, 25, 96, 12, 70, 48, 97, 10]\n",
      "After rotation: [25, 96, 12, 70, 48, 97, 10, 9, 12, 69]\n"
     ]
    }
   ],
   "source": [
    "import numpy as np\n",
    "\n",
    "len_array = int(input(\"Enter the length of the array: \"))\n",
    "array_rotation = int(input(\"Enter the number of rotations to be done in array: \"))\n",
    "\n",
    "if len_array <= 0 or array_rotation <= 0:\n",
    "    print(\"Enter the positive length greater than 0\")\n",
    "else:\n",
    "    \n",
    "    # Get random numbers between 1 and 100 of length defined by user\n",
    "    array_num = np.random.randint(1, 100, len_array) \n",
    "    array_num_list = list(array_num)\n",
    "    print(\"Before rotation: {}\".format(array_num_list))\n",
    "    \n",
    "    # Rotate number of elements based on input\n",
    "    for i in range(array_rotation):\n",
    "        temp = array_num_list.pop(0)\n",
    "        array_num_list.append(temp)\n",
    "        \n",
    "    print(\"After rotation: {}\".format(array_num_list))\n",
    "    "
   ]
  },
  {
   "cell_type": "markdown",
   "id": "3e52d939",
   "metadata": {},
   "source": [
    "### 4. Write a Python Program to Split the array and add the first part to the end?"
   ]
  },
  {
   "cell_type": "code",
   "execution_count": 74,
   "id": "ff91d568-f538-45f2-8ade-469a8322825a",
   "metadata": {},
   "outputs": [
    {
     "name": "stdin",
     "output_type": "stream",
     "text": [
      "Enter the length of the array:  10\n",
      "Enter the position number where the array split has to be done:  3\n"
     ]
    },
    {
     "name": "stdout",
     "output_type": "stream",
     "text": [
      "Before splitting: [90, 63, 82, 9, 17, 38, 68, 88, 34, 49]\n",
      "After splitting: [9, 17, 38, 68, 88, 34, 49, 90, 63, 82]\n"
     ]
    }
   ],
   "source": [
    "import numpy as np\n",
    "\n",
    "len_array = int(input(\"Enter the length of the array: \"))\n",
    "\n",
    "if len_array <= 0:\n",
    "    print(\"Enter the positive length greater than 0\")\n",
    "else:\n",
    "    # Get random numbers between 1 and 100 of length defined by user\n",
    "    array_num = np.random.randint(1, 100, len_array) \n",
    "    array_num_list = list(array_num)\n",
    "    \n",
    "    # position number to split array\n",
    "    position = int(input(\"Enter the position number where the array split has to be done: \"))\n",
    "    \n",
    "    # Check for Position number and length of array\n",
    "    if position <= 0 or position >= len(array_num_list):\n",
    "        print(\"Enter the postive position number within the length of array\")\n",
    "        \n",
    "    else:\n",
    "        print(\"Before splitting: {}\".format(array_num_list))\n",
    "        temp = array_num_list[:position]\n",
    "        array_num_list = array_num_list[position:]\n",
    "        array_num_list.extend(temp)\n",
    "        print(\"After splitting: {}\".format(array_num_list))\n",
    "        \n",
    "    \n",
    "    \n",
    "    "
   ]
  },
  {
   "cell_type": "markdown",
   "id": "aa375779",
   "metadata": {},
   "source": [
    "### 5. Write a Python Program to check if given array is Monotonic?"
   ]
  },
  {
   "cell_type": "code",
   "execution_count": 76,
   "id": "670c4be8-a712-4600-a294-75fea9ce25e5",
   "metadata": {},
   "outputs": [
    {
     "name": "stdin",
     "output_type": "stream",
     "text": [
      "Enter the length of the array:  4\n"
     ]
    },
    {
     "name": "stdout",
     "output_type": "stream",
     "text": [
      "Array [2, 3, 3, 3] is Monotonic\n"
     ]
    }
   ],
   "source": [
    "# Monotonic means arrays is either in sorted increasing or decreasing order\n",
    "import numpy as np\n",
    "\n",
    "len_array = int(input(\"Enter the length of the array: \"))\n",
    "\n",
    "arr1 = arr2 = []\n",
    "\n",
    "if len_array <= 0:\n",
    "    print(\"Enter the positive length greater than 0\")\n",
    "else:\n",
    "    # Get random numbers between 1 and 5 of length defined by user\n",
    "    array_num = np.random.randint(1, 5, len_array) \n",
    "    array_num_list = list(array_num)\n",
    "    \n",
    "    # Copy elements from array_num_list to arr1 and arr2\n",
    "    # Sort arr1 in ascending and arr2 in descending order\n",
    "    arr1 = array_num_list.copy()\n",
    "    arr2 = array_num_list.copy()\n",
    "    arr1.sort()\n",
    "    arr2.sort(reverse=True)\n",
    "    \n",
    "    if array_num_list == arr1 or array_num_list == arr2:\n",
    "        print(\"Array {} is Monotonic\".format(array_num_list))\n",
    "    else:\n",
    "        print(\"Array {} is not Monotonic\".format(array_num_list))\n",
    "    "
   ]
  },
  {
   "cell_type": "code",
   "execution_count": null,
   "id": "bf217ff9-2506-4357-8d2b-e80f800503ca",
   "metadata": {},
   "outputs": [],
   "source": []
  }
 ],
 "metadata": {
  "kernelspec": {
   "display_name": "Python 3 (ipykernel)",
   "language": "python",
   "name": "python3"
  },
  "language_info": {
   "codemirror_mode": {
    "name": "ipython",
    "version": 3
   },
   "file_extension": ".py",
   "mimetype": "text/x-python",
   "name": "python",
   "nbconvert_exporter": "python",
   "pygments_lexer": "ipython3",
   "version": "3.10.6"
  }
 },
 "nbformat": 4,
 "nbformat_minor": 5
}
